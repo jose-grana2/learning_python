{
 "cells": [
  {
   "cell_type": "markdown",
   "metadata": {},
   "source": [
    "CLASE PERSONA\n",
    "\n",
    "Define una clase Persona con atributos como nombre, edad y profesión.\n",
    "Luego, crea varios objetos de esta clase y muestra su información."
   ]
  },
  {
   "cell_type": "code",
   "execution_count": 3,
   "metadata": {},
   "outputs": [
    {
     "name": "stdout",
     "output_type": "stream",
     "text": [
      "--------------------------------------\n",
      "Name Juan\n",
      "Age: 23\n",
      "Profession Developer\n",
      "--------------------------------------\n",
      "--------------------------------------\n",
      "Name Jose\n",
      "Age: 25\n",
      "Profession Developer FullStack\n",
      "--------------------------------------\n",
      "--------------------------------------\n",
      "Name Carlos\n",
      "Age: 19\n",
      "Profession Developer PHP\n",
      "--------------------------------------\n",
      "--------------------------------------\n",
      "Name Fran\n",
      "Age: 20\n",
      "Profession DevOps\n",
      "--------------------------------------\n"
     ]
    }
   ],
   "source": [
    "class Person():\n",
    "    def __init__(self, name, age, profession):\n",
    "        self.name = name\n",
    "        self.age = age\n",
    "        self.profession = profession\n",
    "\n",
    "    def show_data_personal(self):\n",
    "        print('--------------------------------------')\n",
    "        print(\"Name\", self.name)\n",
    "        print(\"Age:\", self.age)\n",
    "        print(\"Profession\", self.profession)\n",
    "        print('--------------------------------------')\n",
    "\n",
    "persona1 = Person('Juan', 23, 'Developer')\n",
    "persona2 = Person('Jose', 25, 'Developer FullStack')\n",
    "persona3 = Person('Carlos', 19, 'Developer PHP')\n",
    "persona4 = Person('Fran', 20, 'DevOps')\n",
    "\n",
    "persona1.show_data_personal()\n",
    "persona2.show_data_personal()\n",
    "persona3.show_data_personal()\n",
    "persona4.show_data_personal()\n"
   ]
  },
  {
   "cell_type": "markdown",
   "metadata": {},
   "source": [
    "CALCULADORA BÁSICA\n",
    "\n",
    "Crea una clase llamada \"Calculadora\" con métodos para sumar, restar,\n",
    "multiplicar y dividir. Crea objetos de esta clase y realiza algunas operaciones\n",
    "básicas."
   ]
  },
  {
   "cell_type": "markdown",
   "metadata": {},
   "source": [
    "LIBRO\n",
    "\n",
    "Crea una clase \"Libro\" con atributos como título, autor y año de publicación.\n",
    "Luego, crea varios objetos Libro y muestra su información."
   ]
  },
  {
   "cell_type": "markdown",
   "metadata": {},
   "source": [
    "RECTÁNGULO\n",
    "\n",
    "Crea una clase \"Rectangulo\" con atributos de longitud y ancho. Implementa\n",
    "un método para calcular el área y el perímetro del rectángulo."
   ]
  },
  {
   "cell_type": "markdown",
   "metadata": {},
   "source": [
    "DADO\n",
    "\n",
    "Crea una clase \"Dado\" que simule el lanzamiento de un dado de 6 caras.\n",
    "Implementa un método para lanzar el dado y mostrar el resultado (quizás te\n",
    "convenga usar el modulo random)."
   ]
  },
  {
   "cell_type": "markdown",
   "metadata": {},
   "source": [
    "COCHE\n",
    "\n",
    "Crea una clase \"Coche\" con atributos como marca, modelo y año.\n",
    "Implementa un método para encender el coche y otro para apagarlo (puedes\n",
    "simulae el encendido y apagado con una variable booleana)."
   ]
  }
 ],
 "metadata": {
  "kernelspec": {
   "display_name": "base",
   "language": "python",
   "name": "python3"
  },
  "language_info": {
   "codemirror_mode": {
    "name": "ipython",
    "version": 3
   },
   "file_extension": ".py",
   "mimetype": "text/x-python",
   "name": "python",
   "nbconvert_exporter": "python",
   "pygments_lexer": "ipython3",
   "version": "3.12.3"
  }
 },
 "nbformat": 4,
 "nbformat_minor": 2
}
