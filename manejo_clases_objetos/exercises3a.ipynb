{
 "cells": [
  {
   "cell_type": "markdown",
   "metadata": {},
   "source": [
    "CLASE PERSONA\n",
    "\n",
    "Define una clase Persona con atributos como nombre, edad y profesión.\n",
    "Luego, crea varios objetos de esta clase y muestra su información."
   ]
  },
  {
   "cell_type": "code",
   "execution_count": 3,
   "metadata": {},
   "outputs": [
    {
     "name": "stdout",
     "output_type": "stream",
     "text": [
      "--------------------------------------\n",
      "Name Juan\n",
      "Age: 23\n",
      "Profession Developer\n",
      "--------------------------------------\n",
      "--------------------------------------\n",
      "Name Jose\n",
      "Age: 25\n",
      "Profession Developer FullStack\n",
      "--------------------------------------\n",
      "--------------------------------------\n",
      "Name Carlos\n",
      "Age: 19\n",
      "Profession Developer PHP\n",
      "--------------------------------------\n",
      "--------------------------------------\n",
      "Name Fran\n",
      "Age: 20\n",
      "Profession DevOps\n",
      "--------------------------------------\n"
     ]
    }
   ],
   "source": [
    "class Person():\n",
    "    def __init__(self, name, age, profession):\n",
    "        self.name = name\n",
    "        self.age = age\n",
    "        self.profession = profession\n",
    "\n",
    "    def show_data_personal(self):\n",
    "        print('--------------------------------------')\n",
    "        print(\"Name\", self.name)\n",
    "        print(\"Age:\", self.age)\n",
    "        print(\"Profession\", self.profession)\n",
    "        print('--------------------------------------')\n",
    "\n",
    "persona1 = Person('Juan', 23, 'Developer')\n",
    "persona2 = Person('Jose', 25, 'Developer FullStack')\n",
    "persona3 = Person('Carlos', 19, 'Developer PHP')\n",
    "persona4 = Person('Fran', 20, 'DevOps')\n",
    "\n",
    "persona1.show_data_personal()\n",
    "persona2.show_data_personal()\n",
    "persona3.show_data_personal()\n",
    "persona4.show_data_personal()\n"
   ]
  },
  {
   "cell_type": "markdown",
   "metadata": {},
   "source": [
    "CALCULADORA BÁSICA\n",
    "\n",
    "Crea una clase llamada \"Calculadora\" con métodos para sumar, restar,\n",
    "multiplicar y dividir. Crea objetos de esta clase y realiza algunas operaciones\n",
    "básicas."
   ]
  },
  {
   "cell_type": "code",
   "execution_count": 2,
   "metadata": {},
   "outputs": [
    {
     "name": "stdout",
     "output_type": "stream",
     "text": [
      "El resultado de la suma es  95\n",
      "El resultado de la resta es  -5\n",
      "El resultado de la multiplicación es  2250\n",
      "El resultado de la división es  0.9\n"
     ]
    }
   ],
   "source": [
    "class Calculadora():\n",
    "    \n",
    "    def sumar(self, n1, n2):\n",
    "        return n1 + n2\n",
    "    \n",
    "    def restar(self, n1, n2):\n",
    "        return n1 - n2\n",
    "    \n",
    "    def multiplicar(self, n1, n2):\n",
    "        return n1 * n2\n",
    "    \n",
    "    def dividir(self, n1, n2):\n",
    "        return n1 / n2\n",
    "    \n",
    "calc = Calculadora()\n",
    "\n",
    "print('El resultado de la suma es ', calc.sumar(45, 50))\n",
    "print('El resultado de la resta es ', calc.restar(45, 50))\n",
    "print('El resultado de la multiplicación es ', calc.multiplicar(45, 50))\n",
    "print('El resultado de la división es ', calc.dividir(45, 50))\n",
    "\n",
    "\n"
   ]
  },
  {
   "cell_type": "markdown",
   "metadata": {},
   "source": [
    "LIBRO\n",
    "\n",
    "Crea una clase \"Libro\" con atributos como título, autor y año de publicación.\n",
    "Luego, crea varios objetos Libro y muestra su información."
   ]
  },
  {
   "cell_type": "code",
   "execution_count": 5,
   "metadata": {},
   "outputs": [
    {
     "name": "stdout",
     "output_type": "stream",
     "text": [
      "------------------------------------------------------------\n",
      "The title is Lo que el viento se llevó\n",
      "The author is Margaret Mitchell\n",
      "The publish date is 1939\n",
      "------------------------------------------------------------\n",
      "------------------------------------------------------------\n",
      "The title is El lazarillo de Tormes\n",
      "The author is Anónimo\n",
      "The publish date is 1554\n",
      "------------------------------------------------------------\n",
      "------------------------------------------------------------\n",
      "The title is Ready Player One\n",
      "The author is Ernest Cline\n",
      "The publish date is 2011\n",
      "------------------------------------------------------------\n"
     ]
    }
   ],
   "source": [
    "class Libro():\n",
    "    def __init__(self, title, author, publish_date):\n",
    "        self.title = title\n",
    "        self.author = author\n",
    "        self.publish_date = publish_date\n",
    "    \n",
    "    def showData(self):\n",
    "        print('------------------------------------------------------------')\n",
    "        print(\"The title is\", self.title)\n",
    "        print(\"The author is\", self.author)\n",
    "        print(\"The publish date is\", self.publish_date)\n",
    "        print('------------------------------------------------------------')\n",
    "\n",
    "\n",
    "book1 = Libro('Lo que el viento se llevó', 'Margaret Mitchell', 1939)\n",
    "book2 = Libro('El lazarillo de Tormes', 'Anónimo', 1554)\n",
    "book3 = Libro('Ready Player One', 'Ernest Cline', 2011)\n",
    "\n",
    "book1.showData()\n",
    "book2.showData()\n",
    "book3.showData()"
   ]
  },
  {
   "cell_type": "markdown",
   "metadata": {},
   "source": [
    "RECTÁNGULO\n",
    "\n",
    "Crea una clase \"Rectangulo\" con atributos de longitud y ancho. Implementa\n",
    "un método para calcular el área y el perímetro del rectángulo."
   ]
  },
  {
   "cell_type": "code",
   "execution_count": 8,
   "metadata": {},
   "outputs": [
    {
     "name": "stdout",
     "output_type": "stream",
     "text": [
      "------------------------------------------------------------\n",
      "The perimeter is 130 cm\n",
      "The area is 1000 cm2\n",
      "------------------------------------------------------------\n",
      "------------------------------------------------------------\n",
      "The perimeter is 5612 cm\n",
      "The area is 615840 cm2\n",
      "------------------------------------------------------------\n",
      "------------------------------------------------------------\n",
      "The perimeter is 1460 cm\n",
      "The area is 57600 cm2\n",
      "------------------------------------------------------------\n"
     ]
    }
   ],
   "source": [
    "class Rectangulo():\n",
    "    def __init__(self, longitud, ancho):\n",
    "        self.longitud = longitud\n",
    "        self.ancho = ancho\n",
    "    \n",
    "    def area(self):\n",
    "        return self.longitud * self.ancho\n",
    "    \n",
    "    def perimetro(self):\n",
    "        return self.longitud * 2 + self.ancho * 2\n",
    "    \n",
    "    def show_data(self):\n",
    "        print('------------------------------------------------------------')\n",
    "        print(\"The perimeter is\", self.perimetro(), 'cm')\n",
    "        print(\"The area is\", self.area(), 'cm2')\n",
    "        print('------------------------------------------------------------')\n",
    "rectangulo1 = Rectangulo(25, 40)\n",
    "rectangulo2 = Rectangulo(2566, 240)\n",
    "rectangulo3 = Rectangulo(90, 640)\n",
    "\n",
    "rectangulo1.show_data()\n",
    "rectangulo2.show_data()\n",
    "rectangulo3.show_data()\n"
   ]
  },
  {
   "cell_type": "markdown",
   "metadata": {},
   "source": [
    "DADO\n",
    "\n",
    "Crea una clase \"Dado\" que simule el lanzamiento de un dado de 6 caras.\n",
    "Implementa un método para lanzar el dado y mostrar el resultado (quizás te\n",
    "convenga usar el modulo random)."
   ]
  },
  {
   "cell_type": "code",
   "execution_count": 15,
   "metadata": {},
   "outputs": [
    {
     "name": "stdout",
     "output_type": "stream",
     "text": [
      "El resultado del lanzamiento del dado es 1\n"
     ]
    }
   ],
   "source": [
    "import random\n",
    "\n",
    "class Dado():\n",
    "    def lanzamiento(self):\n",
    "        return random.randint(1, 6)\n",
    "    \n",
    "\n",
    "dado = Dado()\n",
    "\n",
    "print('El resultado del lanzamiento del dado es', dado.lanzamiento())"
   ]
  },
  {
   "cell_type": "markdown",
   "metadata": {},
   "source": [
    "COCHE\n",
    "\n",
    "Crea una clase \"Coche\" con atributos como marca, modelo y año.\n",
    "Implementa un método para encender el coche y otro para apagarlo (puedes\n",
    "simulae el encendido y apagado con una variable booleana)."
   ]
  },
  {
   "cell_type": "code",
   "execution_count": 17,
   "metadata": {},
   "outputs": [
    {
     "name": "stdout",
     "output_type": "stream",
     "text": [
      "------------------------------------------------------------\n",
      "The brand is Opel\n",
      "The model is Astra\n",
      "The anho is 2013\n",
      "Your car is  arrancado\n",
      "------------------------------------------------------------\n",
      "------------------------------------------------------------\n",
      "The brand is Volkswagen\n",
      "The model is Passat\n",
      "The anho is 2005\n",
      "Your car is  apagado\n",
      "------------------------------------------------------------\n",
      "------------------------------------------------------------\n",
      "The brand is Opel\n",
      "The model is Astra\n",
      "The anho is 2013\n",
      "Your car is  apagado\n",
      "------------------------------------------------------------\n",
      "------------------------------------------------------------\n",
      "The brand is Volkswagen\n",
      "The model is Passat\n",
      "The anho is 2005\n",
      "Your car is  arrancado\n",
      "------------------------------------------------------------\n"
     ]
    }
   ],
   "source": [
    "class Coche():\n",
    "    def __init__(self, marca, modelo, anho):\n",
    "        self.marca = marca\n",
    "        self.modelo = modelo\n",
    "        self.anho = anho\n",
    "        self.estado = False\n",
    "\n",
    "    def arrancar(self):\n",
    "        self.estado = True\n",
    "\n",
    "    def apagar(self):\n",
    "        self.estado = False\n",
    "\n",
    "    def datosCoche(self):\n",
    "        print('------------------------------------------------------------')\n",
    "        print(\"The brand is\", self.marca)\n",
    "        print(\"The model is\", self.modelo)\n",
    "        print(\"The anho is\", self.anho)\n",
    "        print(\"Your car is \", \"arrancado\" if self.estado else \"apagado\")\n",
    "        print('------------------------------------------------------------')\n",
    "\n",
    "\n",
    "coche1 = Coche('Opel', 'Astra', 2013)\n",
    "coche2 = Coche('Volkswagen', 'Passat', 2005)\n",
    "\n",
    "coche1.arrancar()\n",
    "coche1.datosCoche()\n",
    "\n",
    "coche2.arrancar()\n",
    "coche2.apagar()\n",
    "coche2.datosCoche()\n",
    "\n",
    "coche1.apagar()\n",
    "coche1.datosCoche()\n",
    "\n",
    "coche2.arrancar()\n",
    "coche2.datosCoche()\n"
   ]
  }
 ],
 "metadata": {
  "kernelspec": {
   "display_name": "base",
   "language": "python",
   "name": "python3"
  },
  "language_info": {
   "codemirror_mode": {
    "name": "ipython",
    "version": 3
   },
   "file_extension": ".py",
   "mimetype": "text/x-python",
   "name": "python",
   "nbconvert_exporter": "python",
   "pygments_lexer": "ipython3",
   "version": "3.12.3"
  }
 },
 "nbformat": 4,
 "nbformat_minor": 2
}
