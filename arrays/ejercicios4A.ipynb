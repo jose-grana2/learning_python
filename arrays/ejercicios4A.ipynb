{
 "cells": [
  {
   "cell_type": "markdown",
   "metadata": {},
   "source": [
    "ARRAYS 1D PARTE 1: \n"
   ]
  },
  {
   "cell_type": "markdown",
   "metadata": {},
   "source": [
    "1. Crea un array_1 lleno ceros con una longitud de 8 elementos. "
   ]
  },
  {
   "cell_type": "code",
   "execution_count": 3,
   "metadata": {},
   "outputs": [
    {
     "name": "stdout",
     "output_type": "stream",
     "text": [
      "[0. 0. 0. 0. 0. 0. 0. 0.]\n"
     ]
    }
   ],
   "source": [
    "import numpy as np\n",
    "\n",
    "array1 = np.zeros(8)\n",
    "print(array1)"
   ]
  },
  {
   "cell_type": "markdown",
   "metadata": {},
   "source": [
    "2. Haz que todos los elementos de este array sean igual a 2 \n"
   ]
  },
  {
   "cell_type": "code",
   "execution_count": 6,
   "metadata": {},
   "outputs": [
    {
     "name": "stdout",
     "output_type": "stream",
     "text": [
      "[2. 2. 2. 2. 2. 2. 2. 2.]\n"
     ]
    }
   ],
   "source": [
    "import numpy as np\n",
    "\n",
    "array1 = np.zeros(8)\n",
    "\n",
    "array1[:] = 2;\n",
    "\n",
    "print(array1)"
   ]
  },
  {
   "cell_type": "markdown",
   "metadata": {},
   "source": [
    "3. Crea un array_2 que contenga todos los números pares del 1 al 10.\n"
   ]
  },
  {
   "cell_type": "code",
   "execution_count": null,
   "metadata": {},
   "outputs": [
    {
     "name": "stdout",
     "output_type": "stream",
     "text": [
      "[ 2  4  6  8 10]\n"
     ]
    }
   ],
   "source": [
    "import numpy as np\n",
    "\n",
    "array2 = np.arange(2, 11, 2)\n",
    "\n",
    "print(array2)"
   ]
  },
  {
   "cell_type": "markdown",
   "metadata": {},
   "source": [
    "4. Suma todos los elementos del array_2 usando un bucle y después usando un método de numpy. Compara los resultados"
   ]
  },
  {
   "cell_type": "code",
   "execution_count": 4,
   "metadata": {},
   "outputs": [
    {
     "name": "stdout",
     "output_type": "stream",
     "text": [
      "Acumulador 30\n",
      "funcion numpy 30\n"
     ]
    }
   ],
   "source": [
    "import numpy as np\n",
    "\n",
    "array2 = np.arange(2, 11, 2)\n",
    "\n",
    "acum = 0\n",
    "for number in array2:\n",
    "    acum += number\n",
    "suma_array = np.sum(array2)\n",
    "\n",
    "print('Acumulador', acum)\n",
    "print('funcion numpy', suma_array)\n"
   ]
  },
  {
   "cell_type": "markdown",
   "metadata": {},
   "source": [
    "5. Revierte array_2 y guárdalo en una variable independiente. "
   ]
  },
  {
   "cell_type": "code",
   "execution_count": null,
   "metadata": {},
   "outputs": [
    {
     "name": "stdout",
     "output_type": "stream",
     "text": [
      "[10  8  6  4  2]\n"
     ]
    }
   ],
   "source": [
    "import numpy as np\n",
    "\n",
    "array2 = np.arange(2, 11, 2)\n",
    "array2_revertido =  array2[::-1]\n",
    "\n",
    "print(array2_revertido)\n"
   ]
  },
  {
   "cell_type": "markdown",
   "metadata": {},
   "source": [
    "6. Encuentra los elementos comunes entre array_1 y array_2 y entre array_2 y\n",
    "array_2_revertido\n",
    " (Pista: Investiga el uso de intersect1d() de numpy"
   ]
  },
  {
   "cell_type": "code",
   "execution_count": 7,
   "metadata": {},
   "outputs": [
    {
     "name": "stdout",
     "output_type": "stream",
     "text": [
      "[2.]\n"
     ]
    }
   ],
   "source": [
    "import numpy as np\n",
    "\n",
    "array1 = np.zeros(8)\n",
    "array1[:] = 2;\n",
    "\n",
    "array2 = np.arange(2, 11, 2)\n",
    "array2_revertido =  array2[::-1]\n",
    "\n",
    "num_comun = np.intersect1d(np.intersect1d(array1, array2), np.intersect1d(array2, array2_revertido))\n",
    "\n",
    "print(num_comun)"
   ]
  },
  {
   "cell_type": "markdown",
   "metadata": {},
   "source": [
    "7. Crea un arrays lleno de 1s con una longitud dada por el usuario\n"
   ]
  },
  {
   "cell_type": "code",
   "execution_count": 10,
   "metadata": {},
   "outputs": [
    {
     "name": "stdout",
     "output_type": "stream",
     "text": [
      "[1. 1. 1.]\n"
     ]
    }
   ],
   "source": [
    "import numpy as np\n",
    "\n",
    "size_array = int(input(\"introduce el tamñano que va a tener el array\"))\n",
    "array = np.ones(size_array)\n",
    "print(array)\n"
   ]
  },
  {
   "cell_type": "markdown",
   "metadata": {},
   "source": [
    "ARRAYS 1D PARTE 2: \n"
   ]
  },
  {
   "cell_type": "markdown",
   "metadata": {},
   "source": [
    "1. Crea un array con 15 números enteros aleatorios entre 1 y 100\n"
   ]
  },
  {
   "cell_type": "code",
   "execution_count": 12,
   "metadata": {},
   "outputs": [
    {
     "name": "stdout",
     "output_type": "stream",
     "text": [
      "[52 86 14 16 18 60 98 31 92 85 55 20 44 32 24]\n"
     ]
    }
   ],
   "source": [
    "import numpy as np\n",
    "size_array = 15\n",
    "\n",
    "array = np.random.randint(1, 101, size = 15)\n",
    "    \n",
    "print(array)"
   ]
  },
  {
   "cell_type": "markdown",
   "metadata": {},
   "source": [
    "2. Multiplica todos los elementos del array usando un bucle y después usando un\n",
    "método de numpy. Compara los resultados\n"
   ]
  },
  {
   "cell_type": "code",
   "execution_count": 20,
   "metadata": {},
   "outputs": [
    {
     "name": "stdout",
     "output_type": "stream",
     "text": [
      "ACUMULADOR 1.639736061448969e+24\n",
      "ARRAY 4980736926867480960\n"
     ]
    }
   ],
   "source": [
    "import numpy as np\n",
    "size_array = 15\n",
    "\n",
    "array = np.random.randint(1, 101, size = 15)\n",
    "acum = float(1)\n",
    "for number in array:\n",
    "    acum = float(acum * number)\n",
    "\n",
    "array = array.prod()\n",
    "    \n",
    "print('ACUMULADOR', acum)\n",
    "print('ARRAY', array)"
   ]
  },
  {
   "cell_type": "markdown",
   "metadata": {},
   "source": [
    "3. Crea otro array con 15 números decimales aleatorios entre 0 y 1\n"
   ]
  },
  {
   "cell_type": "code",
   "execution_count": 25,
   "metadata": {},
   "outputs": [
    {
     "name": "stdout",
     "output_type": "stream",
     "text": [
      "[0.69438842 0.93555978 0.61639753 0.45274433 0.17657261 0.81723768\n",
      " 0.31582246 0.19502117 0.21176786 0.74224003 0.29243763 0.33419922\n",
      " 0.03386487 0.50294332 0.56748854]\n"
     ]
    }
   ],
   "source": [
    "import numpy as np\n",
    "array_uniform = np.random.uniform(0, 1, size=15)\n",
    "\n",
    "print(array_uniform)"
   ]
  },
  {
   "cell_type": "markdown",
   "metadata": {},
   "source": [
    "4. Suma los elementos de ambos arrays elementos por elemento. Resuélvelo usando un\n",
    "operador y después con una función de numpy\n",
    " (Pista: busca en google que función de numpy hace esto)"
   ]
  },
  {
   "cell_type": "code",
   "execution_count": null,
   "metadata": {},
   "outputs": [
    {
     "name": "stdout",
     "output_type": "stream",
     "text": [
      "706\n",
      "6.543609681097309\n",
      "712.5436096810973\n"
     ]
    }
   ],
   "source": [
    "import numpy as np\n",
    "size_array = 15\n",
    "\n",
    "array = np.random.randint(1, 101, size = size_array)\n",
    "array_uniform = np.random.uniform(0, 1, size = size_array)\n",
    "\n",
    "print(float(array.sum()) + array_uniform.sum())\n",
    "\n",
    "\n"
   ]
  },
  {
   "cell_type": "markdown",
   "metadata": {},
   "source": [
    "5. Ahora réstalos. Resuélvelo usando un operador y después con una función de numpy\n",
    "(Pista: busca en google que función de numpy hace esto)"
   ]
  },
  {
   "cell_type": "code",
   "execution_count": null,
   "metadata": {},
   "outputs": [
    {
     "name": "stdout",
     "output_type": "stream",
     "text": [
      "8\n",
      "837.1789758365715\n"
     ]
    }
   ],
   "source": [
    "import numpy as np\n",
    "size_array = 15\n",
    "\n",
    "array = np.random.randint(1, 101, size = size_array)\n",
    "array_uniform = np.random.uniform(0, 1, size = size_array)\n",
    "\n",
    "print(float(array.sum()) - array_uniform.sum())"
   ]
  },
  {
   "cell_type": "markdown",
   "metadata": {},
   "source": [
    "6. Haz lo mismo con la multiplicación elemento por elemento. Usa un operador y\n",
    "después con una función de numpy\n",
    " (Pista: busca en google que función de numpy hace esto)"
   ]
  },
  {
   "cell_type": "code",
   "execution_count": 36,
   "metadata": {},
   "outputs": [
    {
     "name": "stdout",
     "output_type": "stream",
     "text": [
      "-182600353063172.7\n"
     ]
    }
   ],
   "source": [
    "import numpy as np\n",
    "size_array = 15\n",
    "\n",
    "array = np.random.randint(1, 101, size = size_array)\n",
    "array_uniform = np.random.uniform(0, 1, size = size_array)\n",
    "\n",
    "print(float(array.prod()) * array_uniform.prod())"
   ]
  },
  {
   "cell_type": "markdown",
   "metadata": {},
   "source": [
    "7. Encuentra el valor más alto del primer array que has creado. \n"
   ]
  },
  {
   "cell_type": "code",
   "execution_count": 51,
   "metadata": {},
   "outputs": [
    {
     "name": "stdout",
     "output_type": "stream",
     "text": [
      "99\n"
     ]
    }
   ],
   "source": [
    "import numpy as np\n",
    "\n",
    "array = np.random.randint(1, 101, size = size_array)\n",
    "\n",
    "print(array.max())\n"
   ]
  },
  {
   "cell_type": "markdown",
   "metadata": {},
   "source": [
    "8. Calcula la media (mean), la mediana (median) y al deviación estandar (standard\n",
    "deviation) de los arrays (Nota: No nos importa el signicado matemático de estos\n",
    "valores, lo importante es que encuentres que función de numpy necesitas. Puedes\n",
    "hacer la búsqueda en castellano o en inglés, aunque en inglés muchas veces suele\n",
    "haber más resultados)."
   ]
  },
  {
   "cell_type": "code",
   "execution_count": 52,
   "metadata": {},
   "outputs": [
    {
     "name": "stdout",
     "output_type": "stream",
     "text": [
      "MEDIA 47.666666666666664\n",
      "MEDIANA 38.0\n",
      "STANDARD DEVIATION 17.76388345929897\n"
     ]
    }
   ],
   "source": [
    "import numpy as np \n",
    "\n",
    "array = np.random.randint(1, 101, size = 15)\n",
    "\n",
    "print('MEDIA', array.mean())\n",
    "print('MEDIANA', np.median(array))\n",
    "print('STANDARD DEVIATION', array.std())"
   ]
  },
  {
   "cell_type": "markdown",
   "metadata": {},
   "source": [
    "ARRAYS 2D \n"
   ]
  },
  {
   "cell_type": "markdown",
   "metadata": {},
   "source": [
    "9. Crea un arrays lleno de 1s con una longitud dada por el usuario\n"
   ]
  },
  {
   "cell_type": "code",
   "execution_count": 56,
   "metadata": {},
   "outputs": [
    {
     "name": "stdout",
     "output_type": "stream",
     "text": [
      "[1. 1. 1. 1. 1. 1. 1. 1. 1. 1. 1. 1. 1. 1. 1. 1. 1. 1. 1. 1. 1. 1. 1. 1.\n",
      " 1. 1. 1. 1. 1. 1. 1. 1. 1. 1. 1. 1. 1. 1. 1. 1. 1. 1. 1. 1. 1. 1. 1. 1.\n",
      " 1. 1. 1. 1. 1. 1. 1. 1. 1. 1. 1. 1. 1. 1. 1. 1. 1. 1. 1. 1. 1. 1. 1. 1.\n",
      " 1. 1. 1. 1. 1. 1. 1. 1. 1. 1. 1. 1. 1. 1. 1. 1. 1. 1. 1. 1. 1. 1. 1. 1.\n",
      " 1. 1. 1.]\n"
     ]
    }
   ],
   "source": [
    "import numpy as np\n",
    "size_array = int(input('Dame un numero para la longitud del array'))\n",
    "array = np.ones(size_array, dtype = 'float64')\n",
    "\n",
    "print(array)"
   ]
  },
  {
   "cell_type": "markdown",
   "metadata": {},
   "source": [
    "10.Cambia la forma del array para que tenga una estructura de tipo (filas, columnas)\n"
   ]
  },
  {
   "cell_type": "code",
   "execution_count": 1,
   "metadata": {},
   "outputs": [
    {
     "name": "stdout",
     "output_type": "stream",
     "text": [
      "[1. 1. 1. 1. 1. 1. 1. 1. 1. 1. 1. 1.]\n",
      "[[1. 1. 1.]\n",
      " [1. 1. 1.]\n",
      " [1. 1. 1.]\n",
      " [1. 1. 1.]]\n"
     ]
    }
   ],
   "source": [
    "import numpy as np\n",
    "col_array = int(input('Dame el numero de columnas'))\n",
    "row_array = int(input('Dame el numero de filas'))\n",
    "array = np.ones(row_array*col_array, dtype = 'float64')\n",
    "print(array)\n",
    "\n",
    "print(array.reshape(row_array, col_array))"
   ]
  },
  {
   "cell_type": "markdown",
   "metadata": {},
   "source": [
    "11.Crea una “matriz identidad” con la misma forma que el array anterior (las, columnas)\n"
   ]
  },
  {
   "cell_type": "code",
   "execution_count": null,
   "metadata": {},
   "outputs": [
    {
     "name": "stdout",
     "output_type": "stream",
     "text": [
      "[[1. 0. 0. 0.]\n",
      " [0. 1. 0. 0.]\n",
      " [0. 0. 1. 0.]\n",
      " [0. 0. 0. 1.]]\n"
     ]
    }
   ],
   "source": [
    "import numpy as np\n",
    "col_array = int(input('Dame el numero de columnas'))\n",
    "row_array = int(input('Dame el numero de filas'))\n",
    "array = np.eye(row_array, col_array)\n",
    "print(array)\n"
   ]
  },
  {
   "cell_type": "markdown",
   "metadata": {},
   "source": [
    "12.Concatena ambas estructuras horizontalmente y verticalmente\n",
    " (Pista: Investiga el funcionamiento de concatenate() y de vstack() y hstack() de numpy)"
   ]
  },
  {
   "cell_type": "code",
   "execution_count": null,
   "metadata": {},
   "outputs": [],
   "source": [
    "import numpy as np\n"
   ]
  }
 ],
 "metadata": {
  "kernelspec": {
   "display_name": "conquer_blocks",
   "language": "python",
   "name": "python3"
  },
  "language_info": {
   "codemirror_mode": {
    "name": "ipython",
    "version": 3
   },
   "file_extension": ".py",
   "mimetype": "text/x-python",
   "name": "python",
   "nbconvert_exporter": "python",
   "pygments_lexer": "ipython3",
   "version": "3.13.0"
  }
 },
 "nbformat": 4,
 "nbformat_minor": 2
}
