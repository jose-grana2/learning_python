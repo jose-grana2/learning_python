{
 "cells": [
  {
   "cell_type": "markdown",
   "metadata": {},
   "source": [
    "DATOS CINEMATOGRÁFICOS\n",
    "\n",
    "Supongamos que tienes un conjunto de datos de películas que contiene información\n",
    "sobre su título, género, duración, año de lanzamiento y calificación. Quieres analizar\n",
    "estos datos para determinar cuál es el género de película más popular, cuántas películas\n",
    "se lanzaron en cada década y cuál es la duración promedio de cada género de película."
   ]
  },
  {
   "cell_type": "code",
   "execution_count": 2,
   "metadata": {},
   "outputs": [
    {
     "name": "stdout",
     "output_type": "stream",
     "text": [
      "El género más popular es Comedia\n",
      "En el año 1980 lanzaron 1 de peliculas\n",
      "En el año 1985 lanzaron 1 de peliculas\n",
      "En el año 1990 lanzaron 1 de peliculas\n",
      "En el año 1995 lanzaron 1 de peliculas\n",
      "En el año 2000 lanzaron 2 de peliculas\n",
      "En el año 2005 lanzaron 1 de peliculas\n",
      "En el año 2010 lanzaron 2 de peliculas\n",
      "En el año 2015 lanzaron 1 de peliculas\n"
     ]
    },
    {
     "ename": "TypeError",
     "evalue": "the resolved dtypes are not compatible with add.reduce. Resolved (dtype('<U32'), dtype('<U32'), dtype('<U64'))",
     "output_type": "error",
     "traceback": [
      "\u001b[0;31m---------------------------------------------------------------------------\u001b[0m",
      "\u001b[0;31mTypeError\u001b[0m                                 Traceback (most recent call last)",
      "Cell \u001b[0;32mIn[2], line 34\u001b[0m\n\u001b[1;32m     31\u001b[0m arr_avg \u001b[38;5;241m=\u001b[39m np\u001b[38;5;241m.\u001b[39mzeros(\u001b[38;5;28mlen\u001b[39m(duracion))\n\u001b[1;32m     33\u001b[0m \u001b[38;5;28;01mfor\u001b[39;00m i \u001b[38;5;129;01min\u001b[39;00m \u001b[38;5;28mrange\u001b[39m(\u001b[38;5;28mlen\u001b[39m(generos)):\n\u001b[0;32m---> 34\u001b[0m     arr_avg[i] \u001b[38;5;241m=\u001b[39m \u001b[43mnp\u001b[49m\u001b[38;5;241;43m.\u001b[39;49m\u001b[43mmean\u001b[49m\u001b[43m(\u001b[49m\u001b[43mduracion\u001b[49m\u001b[43m[\u001b[49m\u001b[43mtodos_generos\u001b[49m\u001b[43m \u001b[49m\u001b[38;5;241;43m==\u001b[39;49m\u001b[43m \u001b[49m\u001b[43mgeneros\u001b[49m\u001b[43m[\u001b[49m\u001b[43mi\u001b[49m\u001b[43m]\u001b[49m\u001b[43m]\u001b[49m\u001b[43m)\u001b[49m\u001b[38;5;241m.\u001b[39mastype(\u001b[38;5;28mfloat\u001b[39m)\n",
      "File \u001b[0;32m~/anaconda3/envs/conquer_blocks/lib/python3.13/site-packages/numpy/_core/fromnumeric.py:3904\u001b[0m, in \u001b[0;36mmean\u001b[0;34m(a, axis, dtype, out, keepdims, where)\u001b[0m\n\u001b[1;32m   3901\u001b[0m     \u001b[38;5;28;01melse\u001b[39;00m:\n\u001b[1;32m   3902\u001b[0m         \u001b[38;5;28;01mreturn\u001b[39;00m mean(axis\u001b[38;5;241m=\u001b[39maxis, dtype\u001b[38;5;241m=\u001b[39mdtype, out\u001b[38;5;241m=\u001b[39mout, \u001b[38;5;241m*\u001b[39m\u001b[38;5;241m*\u001b[39mkwargs)\n\u001b[0;32m-> 3904\u001b[0m \u001b[38;5;28;01mreturn\u001b[39;00m \u001b[43m_methods\u001b[49m\u001b[38;5;241;43m.\u001b[39;49m\u001b[43m_mean\u001b[49m\u001b[43m(\u001b[49m\u001b[43ma\u001b[49m\u001b[43m,\u001b[49m\u001b[43m \u001b[49m\u001b[43maxis\u001b[49m\u001b[38;5;241;43m=\u001b[39;49m\u001b[43maxis\u001b[49m\u001b[43m,\u001b[49m\u001b[43m \u001b[49m\u001b[43mdtype\u001b[49m\u001b[38;5;241;43m=\u001b[39;49m\u001b[43mdtype\u001b[49m\u001b[43m,\u001b[49m\n\u001b[1;32m   3905\u001b[0m \u001b[43m                      \u001b[49m\u001b[43mout\u001b[49m\u001b[38;5;241;43m=\u001b[39;49m\u001b[43mout\u001b[49m\u001b[43m,\u001b[49m\u001b[43m \u001b[49m\u001b[38;5;241;43m*\u001b[39;49m\u001b[38;5;241;43m*\u001b[39;49m\u001b[43mkwargs\u001b[49m\u001b[43m)\u001b[49m\n",
      "File \u001b[0;32m~/anaconda3/envs/conquer_blocks/lib/python3.13/site-packages/numpy/_core/_methods.py:136\u001b[0m, in \u001b[0;36m_mean\u001b[0;34m(a, axis, dtype, out, keepdims, where)\u001b[0m\n\u001b[1;32m    133\u001b[0m         dtype \u001b[38;5;241m=\u001b[39m mu\u001b[38;5;241m.\u001b[39mdtype(\u001b[38;5;124m'\u001b[39m\u001b[38;5;124mf4\u001b[39m\u001b[38;5;124m'\u001b[39m)\n\u001b[1;32m    134\u001b[0m         is_float16_result \u001b[38;5;241m=\u001b[39m \u001b[38;5;28;01mTrue\u001b[39;00m\n\u001b[0;32m--> 136\u001b[0m ret \u001b[38;5;241m=\u001b[39m \u001b[43mumr_sum\u001b[49m\u001b[43m(\u001b[49m\u001b[43marr\u001b[49m\u001b[43m,\u001b[49m\u001b[43m \u001b[49m\u001b[43maxis\u001b[49m\u001b[43m,\u001b[49m\u001b[43m \u001b[49m\u001b[43mdtype\u001b[49m\u001b[43m,\u001b[49m\u001b[43m \u001b[49m\u001b[43mout\u001b[49m\u001b[43m,\u001b[49m\u001b[43m \u001b[49m\u001b[43mkeepdims\u001b[49m\u001b[43m,\u001b[49m\u001b[43m \u001b[49m\u001b[43mwhere\u001b[49m\u001b[38;5;241;43m=\u001b[39;49m\u001b[43mwhere\u001b[49m\u001b[43m)\u001b[49m\n\u001b[1;32m    137\u001b[0m \u001b[38;5;28;01mif\u001b[39;00m \u001b[38;5;28misinstance\u001b[39m(ret, mu\u001b[38;5;241m.\u001b[39mndarray):\n\u001b[1;32m    138\u001b[0m     \u001b[38;5;28;01mwith\u001b[39;00m _no_nep50_warning():\n",
      "\u001b[0;31mTypeError\u001b[0m: the resolved dtypes are not compatible with add.reduce. Resolved (dtype('<U32'), dtype('<U32'), dtype('<U64'))"
     ]
    }
   ],
   "source": [
    "import numpy as np\n",
    "\n",
    "peliculas = np.array([\n",
    "    ['Peli 1', 'Comedia', 120, 1990, 8.5],\n",
    "    ['Peli 2', 'Acción', 110, 2005, 7.8],\n",
    "    ['Peli 3', 'Drama', 95, 2010, 6.9],\n",
    "    ['Peli 4', 'Comedia', 100, 1985, 7.5],\n",
    "    ['Peli 5', 'Acción', 130, 2015, 8.1],\n",
    "    ['Peli 6', 'Drama', 115, 2000, 6.7],\n",
    "    ['Peli 7', 'Comedia', 90, 1995, 8.2],\n",
    "    ['Peli 8', 'Acción', 105, 2010, 7.4],\n",
    "    ['Peli 9', 'Drama', 125, 1980, 6.8],\n",
    "    ['Peli 10', 'Comedia', 95, 2000, 8.0]\n",
    "])\n",
    "#Proceso de obtención de Género más popular\n",
    "generos, counts_gen = np.unique(peliculas[:,1], return_counts=True)\n",
    "indice_max = np.argmax(counts_gen)\n",
    "\n",
    "print('El género más popular es', generos[indice_max])\n",
    "\n",
    "#Agrupación de peliculas por año\n",
    "anos = peliculas[:,3]\n",
    "anos, counts_anos = np.unique(peliculas[:,3], return_counts=True)\n",
    "indices_anos = np.argsort(anos)\n",
    "for indice in indices_anos:\n",
    "    print('En el año', anos[indice], 'lanzaron', counts_anos[indice], 'de peliculas')\n",
    "\n",
    "#Promedio de duración de peliculas por año\n",
    "todos_generos = peliculas[:,1]\n",
    "duracion = peliculas[:,2]\n",
    "arr_avg = np.zeros(len(duracion))\n",
    "\n",
    "for i in range(len(generos)):\n",
    "    arr_avg[i] = np.mean(duracion[todos_generos == generos[i]]).astype(float)\n",
    "    \n",
    "\n",
    "\n"
   ]
  }
 ],
 "metadata": {
  "kernelspec": {
   "display_name": "conquer_blocks",
   "language": "python",
   "name": "python3"
  },
  "language_info": {
   "codemirror_mode": {
    "name": "ipython",
    "version": 3
   },
   "file_extension": ".py",
   "mimetype": "text/x-python",
   "name": "python",
   "nbconvert_exporter": "python",
   "pygments_lexer": "ipython3",
   "version": "3.13.0"
  }
 },
 "nbformat": 4,
 "nbformat_minor": 2
}
