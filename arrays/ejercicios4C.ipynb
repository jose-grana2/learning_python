{
 "cells": [
  {
   "cell_type": "markdown",
   "metadata": {},
   "source": [
    "DATOS CINEMATOGRÁFICOS\n",
    "\n",
    "Supongamos que tienes un conjunto de datos de películas que contiene información\n",
    "sobre su título, género, duración, año de lanzamiento y calificación. Quieres analizar\n",
    "estos datos para determinar cuál es el género de película más popular, cuántas películas\n",
    "se lanzaron en cada década y cuál es la duración promedio de cada género de película."
   ]
  },
  {
   "cell_type": "code",
   "execution_count": null,
   "metadata": {},
   "outputs": [
    {
     "name": "stdout",
     "output_type": "stream",
     "text": [
      "El género más popular es Comedia\n",
      "En el año 1980 lanzaron 1 de peliculas\n",
      "En el año 1985 lanzaron 1 de peliculas\n",
      "En el año 1990 lanzaron 1 de peliculas\n",
      "En el año 1995 lanzaron 1 de peliculas\n",
      "En el año 2000 lanzaron 2 de peliculas\n",
      "En el año 2005 lanzaron 1 de peliculas\n",
      "En el año 2010 lanzaron 2 de peliculas\n",
      "En el año 2015 lanzaron 1 de peliculas\n"
     ]
    }
   ],
   "source": [
    "import numpy as np\n",
    "\n",
    "peliculas = np.array([\n",
    "    ['Peli 1', 'Comedia', 120, 1990, 8.5],\n",
    "    ['Peli 2', 'Acción', 110, 2005, 7.8],\n",
    "    ['Peli 3', 'Drama', 95, 2010, 6.9],\n",
    "    ['Peli 4', 'Comedia', 100, 1985, 7.5],\n",
    "    ['Peli 5', 'Acción', 130, 2015, 8.1],\n",
    "    ['Peli 6', 'Drama', 115, 2000, 6.7],\n",
    "    ['Peli 7', 'Comedia', 90, 1995, 8.2],\n",
    "    ['Peli 8', 'Acción', 105, 2010, 7.4],\n",
    "    ['Peli 9', 'Drama', 125, 1980, 6.8],\n",
    "    ['Peli 10', 'Comedia', 95, 2000, 8.0]\n",
    "])\n",
    "#Proceso de obtención de Género más popular\n",
    "generos, counts_gen = np.unique(peliculas[:,1], return_counts=True)\n",
    "indice_max = np.argmax(counts_gen)\n",
    "\n",
    "print('El género más popular es', generos[indice_max])\n",
    "\n",
    "#Agrupación de peliculas por año\n",
    "anos = peliculas[:,3]\n",
    "anos, counts_anos = np.unique(peliculas[:,3], return_counts=True)\n",
    "indices_anos = np.argsort(anos)\n",
    "for indice in indices_anos:\n",
    "    print('En el año', anos[indice], 'lanzaron', counts_anos[indice], 'de peliculas')\n",
    "\n",
    "#Promedio de duración de peliculas por año\n",
    "todos_generos = peliculas[:,1]\n",
    "duracion = peliculas[:,2]\n",
    "arr_avg = np.zeros(len(duracion))\n",
    "\n",
    "for i in range(len(generos)):\n",
    "    arr_avg[i] = np.mean(duracion[todos_generos == generos[i]]).astype(float)\n",
    "    \n",
    "\n",
    "\n"
   ]
  }
 ],
 "metadata": {
  "kernelspec": {
   "display_name": "conquer_blocks",
   "language": "python",
   "name": "python3"
  },
  "language_info": {
   "codemirror_mode": {
    "name": "ipython",
    "version": 3
   },
   "file_extension": ".py",
   "mimetype": "text/x-python",
   "name": "python",
   "nbconvert_exporter": "python",
   "pygments_lexer": "ipython3",
   "version": "3.13.0"
  }
 },
 "nbformat": 4,
 "nbformat_minor": 2
}
