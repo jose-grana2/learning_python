{
 "cells": [
  {
   "cell_type": "markdown",
   "metadata": {},
   "source": [
    "CALCULO DE NOTAS FINALES\n",
    "\n",
    "Supongamos que tienes un conjunto de calificaciones de un grupo de estudiantes en un\n",
    "curso. Cada estudiante tiene cuatro calicaciones: dos exámenes, un trabajo nal y una\n",
    "participación en clase. Quieres calcular la nota nal de cada estudiante, donde los\n",
    "exámenes valen un 30% cada uno, el trabajo nal vale un 30% y la participación en clase\n",
    "vale un 10%. Para ello, puedes usar NumPy para crear un array de 4 columnas y n las,\n",
    "donde n es el número de estudiantes. Cada columna representa una de las calicaciones\n",
    "y cada la representa un estudiante. Luego, puedes usar operaciones de NumPy para\n",
    "calcular la nota nal de cada estudiante y almacenarla en un nuevo array de una sola\n",
    "columna."
   ]
  },
  {
   "cell_type": "code",
   "execution_count": 63,
   "metadata": {},
   "outputs": [
    {
     "name": "stdout",
     "output_type": "stream",
     "text": [
      "Las notas de los alumnos [[7 8 5 5]\n",
      " [9 5 8 4]\n",
      " [8 0 1 5]\n",
      " [3 6 2 4]]\n",
      "Notas finales:  [6.5 7.  3.2 3.7]\n"
     ]
    }
   ],
   "source": [
    "import numpy as np\n",
    "\n",
    "#definicion de variables\n",
    "col = 4\n",
    "i = 1\n",
    "n_estudiantes = int(input('Introduce el numero de estudiantes'))\n",
    "\n",
    "arr_notas = np.empty((0, col), dtype=int)\n",
    "\n",
    "# Crear las notas de los estudiantes\n",
    "for _ in range(n_estudiantes):\n",
    "    new_row = np.random.randint(0, 11, col)  # Generar una fila con 4 calificaciones\n",
    "    arr_notas = np.vstack([arr_notas, new_row])\n",
    "\n",
    "print('Las notas de los alumnos', arr_notas)\n",
    "\n",
    "\n",
    "#Se realizarán las operaciones necesarias.\n",
    "notas_medias = np.array([0.3, 0.3, 0.3, 0.1])\n",
    "notas_finales = np.dot(arr_notas, notas_medias)\n",
    "print('Notas finales: ', notas_finales)"
   ]
  },
  {
   "cell_type": "code",
   "execution_count": 38,
   "metadata": {},
   "outputs": [
    {
     "name": "stdout",
     "output_type": "stream",
     "text": [
      "Array con filas escaladas:\n",
      " [[ 1  2  3]\n",
      " [ 2  4  8]\n",
      " [ 3  6 15]]\n"
     ]
    }
   ],
   "source": [
    "# Array de escalares para cada fila\n",
    "escalares = np.array([1, 2, 3])\n",
    "array = np.array([[1,2,3], [1,2,4], [1,2,5]])\n",
    "# Multiplicar cada fila por su respectivo escalar\n",
    "array_escalado_filas = array * escalares[:, np.newaxis]\n",
    "print(\"Array con filas escaladas:\\n\", array_escalado_filas)\n"
   ]
  },
  {
   "cell_type": "markdown",
   "metadata": {},
   "source": [
    "ANALISIS DE DATOS - VENTAS POR MES\n",
    "\n",
    "Supongamos que tienes un conjunto de datos de ventas de una tienda durante un año.\n",
    "Cada la representa una venta y tiene tres columnas: la fecha de la venta, el monto de la\n",
    "venta y la categoría de producto vendido (por ejemplo, electrónicos, ropa, alimentos,\n",
    "etc.). Quieres analizar estos datos para determinar cuánto fue el monto total de ventas en\n",
    "cada mes. Para ello, puedes usar NumPy para cargar los datos en un array de 3\n",
    "columnas y n las, donde n es el número de ventas. Luego, puedes usar operaciones de\n",
    "NumPy para ltrar los datos por mes y sumar los montos de venta correspondientes."
   ]
  },
  {
   "cell_type": "code",
   "execution_count": null,
   "metadata": {},
   "outputs": [
    {
     "name": "stdout",
     "output_type": "stream",
     "text": [
      "[1 1 1 2 2 2 3 3 3]\n",
      "TOTAL DE VENYAS POR MES [450. 500. 300.   0.   0.   0.   0.   0.   0.   0.   0.   0.]\n"
     ]
    }
   ],
   "source": [
    "import numpy as np\n",
    "\n",
    "# Datos de ventas de la tienda\n",
    "ventas = np.array([\n",
    "    ['2022-01-01', 100, 'ropa'],\n",
    "    ['2022-01-02', 200, 'alimentos'],\n",
    "    ['2022-01-03', 150, 'ropa'],\n",
    "    ['2022-02-01', 120, 'alimentos'],\n",
    "    ['2022-02-02', 180, 'electrónicos'],\n",
    "    ['2022-02-03', 200, 'alimentos'],\n",
    "    ['2022-03-01', 90, 'ropa'],\n",
    "    ['2022-03-02', 110, 'electrónicos'],\n",
    "    ['2022-03-03', 100, 'alimentos']\n",
    "])\n",
    "\n",
    "#Extraer las fechas\n",
    "fechas = np.array([venta[0] for venta in ventas])\n",
    "\n",
    "#Extraemos el mes\n",
    "meses = np.array([int(fecha[5:7]) for fecha in fechas])\n",
    "\n",
    "montos_mes = np.zeros((12))\n",
    "\n",
    "for mes in range(1, 13):\n",
    "    ventas_mes = ventas[meses == mes]\n",
    "    montos_mes[mes - 1] = np.sum(ventas_mes[:,1].astype(int))\n",
    "print('TOTAL DE VENTAS POR MES', montos_mes)\n"
   ]
  },
  {
   "cell_type": "markdown",
   "metadata": {},
   "source": [
    "\n",
    "\n",
    "ANALISIS DE DATOS CLIMÁTICOS\n",
    "\n",
    "\n",
    "Supongamos que tienes un conjunto de datos de clima que contiene información sobre la\n",
    "temperatura, la humedad y la presión atmosférica en una ciudad durante un año. Quieres\n",
    "analizar estos datos para determinar cuál fue la temperatura promedio de cada mes, cuál\n",
    "fue la humedad promedio y la presión atmosférica promedio durante todo el año. Para\n",
    "ello, puedes usar NumPy para cargar los datos en un array de 3 columnas y n filas, donde\n",
    "n es el número de mediciones. Luego, puedes usar operaciones de NumPy para filtrar los\n",
    "datos por mes y calcular las medias de temperatura, humedad y presión atmosférica\n",
    "correspondientes."
   ]
  },
  {
   "cell_type": "code",
   "execution_count": 10,
   "metadata": {},
   "outputs": [
    {
     "name": "stdout",
     "output_type": "stream",
     "text": [
      "Las temperaturas medias por mes son: [21.         18.         21.5        25.         28.         30.\n",
      " 32.         33.         31.         28.         25.33333333 22.        ]\n",
      "Las humedades medias por mes son: [56.66666667 75.         62.5        60.         48.         45.\n",
      " 40.         35.         43.         50.         59.         70.        ]\n",
      "Las presiones atmosfericas medias por mes son: [1010.  1012.  1008.  1010.  1007.  1005.  1002.  1003.  1002.5 1006.\n",
      " 1011.  1011. ]\n"
     ]
    }
   ],
   "source": [
    "import numpy as np\n",
    "\n",
    "# Datos de clima\n",
    "clima = np.array([\n",
    "    [20, 70, 1009, 1],\n",
    "    [21, 60, 1011, 1],\n",
    "    [22, 40, 1010, 1],\n",
    "    [18, 75, 1012, 2],\n",
    "    [21, 60, 1008, 3],\n",
    "    [22, 65, 1008, 3],\n",
    "    [25, 60, 1010, 4],\n",
    "    [27, 49, 1007, 5],\n",
    "    [29, 45, 1007, 5],\n",
    "    [28, 50, 1007, 5],\n",
    "    [30, 45, 1005, 6],\n",
    "    [30, 45, 1005, 6],\n",
    "    [32, 40, 1002, 7],\n",
    "    [33, 35, 1003, 8],\n",
    "    [31, 45, 1003, 9],\n",
    "    [29, 42, 1002, 9],\n",
    "    [29, 42, 1002, 9],\n",
    "    [35, 43, 1003, 9],\n",
    "    [28, 50, 1006, 10],\n",
    "    [25, 60, 1010, 11],\n",
    "    [27, 59, 1012, 11],\n",
    "    [24, 58, 1011, 11],\n",
    "    [22, 70, 1011, 12]\n",
    "\n",
    "\n",
    "])\n",
    "\n",
    "meses = clima[:,3]\n",
    "temperaturas = clima[:,0]\n",
    "humedades = clima[:,1]\n",
    "presiones= clima[:,2]\n",
    "temp_mes = np.zeros(12)\n",
    "hum_mes = np.zeros(12)\n",
    "pres_mes = np.zeros(12)\n",
    "\n",
    "\n",
    "for i in range(12):\n",
    "    temp_mes[i] = np.mean(temperaturas[meses == i + 1])\n",
    "    hum_mes[i] = np.mean(humedades[meses == i + 1])\n",
    "    pres_mes[i] = np.mean(presiones[meses == i + 1])\n",
    "\n",
    "\n",
    "print(\"Las temperaturas medias por mes son:\", temp_mes)\n",
    "print(\"Las humedades medias por mes son:\", hum_mes)\n",
    "print(\"Las presiones atmosfericas medias por mes son:\", pres_mes)\n",
    "    \n",
    "\n"
   ]
  }
 ],
 "metadata": {
  "kernelspec": {
   "display_name": "conquer_blocks",
   "language": "python",
   "name": "python3"
  },
  "language_info": {
   "codemirror_mode": {
    "name": "ipython",
    "version": 3
   },
   "file_extension": ".py",
   "mimetype": "text/x-python",
   "name": "python",
   "nbconvert_exporter": "python",
   "pygments_lexer": "ipython3",
   "version": "3.13.0"
  }
 },
 "nbformat": 4,
 "nbformat_minor": 2
}
