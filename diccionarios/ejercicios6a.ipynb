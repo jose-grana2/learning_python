{
 "cells": [
  {
   "cell_type": "markdown",
   "metadata": {},
   "source": [
    "1. Crea un diccionario vacío llamado “mi_diccionario”.\n",
    "\n"
   ]
  },
  {
   "cell_type": "code",
   "execution_count": 3,
   "metadata": {},
   "outputs": [
    {
     "name": "stdout",
     "output_type": "stream",
     "text": [
      "{}\n",
      "<class 'dict'>\n"
     ]
    }
   ],
   "source": [
    "mi_diccionario = {}\n",
    "print(mi_diccionario)\n",
    "print(type(mi_diccionario))\n"
   ]
  },
  {
   "cell_type": "markdown",
   "metadata": {},
   "source": [
    "2. Agrega un par clave-valor a \"mi_diccionario\" donde la clave sea \"nombre\" y el valor\n",
    "sea tu nombre. "
   ]
  },
  {
   "cell_type": "code",
   "execution_count": 4,
   "metadata": {},
   "outputs": [
    {
     "name": "stdout",
     "output_type": "stream",
     "text": [
      "{'nombre': 'jose'}\n",
      "<class 'dict'>\n"
     ]
    }
   ],
   "source": [
    "mi_diccionario = {\n",
    "    'nombre': 'jose'\n",
    "}\n",
    "print(mi_diccionario)\n",
    "print(type(mi_diccionario))"
   ]
  },
  {
   "cell_type": "markdown",
   "metadata": {},
   "source": [
    "3. Accede e imprime el valor asociado con la clave \"nombre\" en “mi_diccionario\". \n"
   ]
  },
  {
   "cell_type": "code",
   "execution_count": 5,
   "metadata": {},
   "outputs": [
    {
     "name": "stdout",
     "output_type": "stream",
     "text": [
      "jose\n",
      "<class 'dict'>\n"
     ]
    }
   ],
   "source": [
    "mi_diccionario = {\n",
    "    'nombre': 'jose'\n",
    "}\n",
    "print(mi_diccionario['nombre'])\n",
    "print(type(mi_diccionario))"
   ]
  },
  {
   "cell_type": "markdown",
   "metadata": {},
   "source": [
    "4. Verfica si la clave \"edad\" existe en \"mi_diccionario\". Imprime \"True\" si existe y \"False\"\n",
    "en caso contrario. \n"
   ]
  },
  {
   "cell_type": "code",
   "execution_count": 22,
   "metadata": {},
   "outputs": [
    {
     "name": "stdout",
     "output_type": "stream",
     "text": [
      "False\n",
      "{'nombre': 'jose'}\n",
      "<class 'dict'>\n"
     ]
    }
   ],
   "source": [
    "mi_diccionario = {\n",
    "    'nombre': 'jose',\n",
    "}\n",
    "\n",
    "printer = mi_diccionario.get('edad', False)\n",
    "\n",
    "print(printer if printer == False else True)\n",
    "print(mi_diccionario)\n",
    "print(type(mi_diccionario))"
   ]
  },
  {
   "cell_type": "markdown",
   "metadata": {},
   "source": [
    "5. Crea un diccionario llamado \"estudiante\" con los siguientes pares clave-valor:\n",
    "    \"nombre\" con el nombre del alumno, \n",
    "    \"edad\" con su edad y \n",
    "    \"materia\" con su materia favorita. "
   ]
  },
  {
   "cell_type": "code",
   "execution_count": 23,
   "metadata": {},
   "outputs": [
    {
     "name": "stdout",
     "output_type": "stream",
     "text": [
      "{'nombre': 'Jose', 'edad': '25', 'materia': 'Programación'}\n",
      "<class 'dict'>\n"
     ]
    }
   ],
   "source": [
    "estudiante = {\n",
    "    'nombre': 'Jose',\n",
    "    'edad': '25',\n",
    "    'materia': 'Programación'\n",
    "}\n",
    "\n",
    "print(estudiante)\n",
    "print(type(estudiante))\n",
    "\n"
   ]
  },
  {
   "cell_type": "markdown",
   "metadata": {},
   "source": [
    "6. Actualiza el valor de la clave \"edad\" en el diccionario \"estudiante\" para reejar la edad\n",
    "actual de tu amigo. "
   ]
  },
  {
   "cell_type": "code",
   "execution_count": 24,
   "metadata": {},
   "outputs": [
    {
     "name": "stdout",
     "output_type": "stream",
     "text": [
      "{'nombre': 'Jose', 'edad': 26, 'materia': 'Programación'}\n",
      "<class 'dict'>\n"
     ]
    }
   ],
   "source": [
    "estudiante = {\n",
    "    'nombre': 'Jose',\n",
    "    'edad': '25',\n",
    "    'materia': 'Programación'\n",
    "}\n",
    "\n",
    "estudiante['edad'] = 26\n",
    "\n",
    "print(estudiante)\n",
    "print(type(estudiante))\n",
    "\n"
   ]
  },
  {
   "cell_type": "markdown",
   "metadata": {},
   "source": [
    "7. Elimina el par clave-valor con la clave \"materia\" del diccionario “estudiante\""
   ]
  },
  {
   "cell_type": "code",
   "execution_count": 25,
   "metadata": {},
   "outputs": [
    {
     "name": "stdout",
     "output_type": "stream",
     "text": [
      "{'nombre': 'Jose', 'edad': '25'}\n",
      "<class 'dict'>\n"
     ]
    }
   ],
   "source": [
    "estudiante = {\n",
    "    'nombre': 'Jose',\n",
    "    'edad': '25',\n",
    "    'materia': 'Programación'\n",
    "}\n",
    "\n",
    "del estudiante['materia']\n",
    "\n",
    "print(estudiante)\n",
    "print(type(estudiante))\n",
    "\n"
   ]
  },
  {
   "cell_type": "markdown",
   "metadata": {},
   "source": [
    "8. Imprime todas las claves en el diccionario “estudiante\". "
   ]
  },
  {
   "cell_type": "code",
   "execution_count": 26,
   "metadata": {},
   "outputs": [
    {
     "name": "stdout",
     "output_type": "stream",
     "text": [
      "dict_keys(['nombre', 'edad', 'materia'])\n",
      "<class 'dict'>\n"
     ]
    }
   ],
   "source": [
    "estudiante = {\n",
    "    'nombre': 'Jose',\n",
    "    'edad': '25',\n",
    "    'materia': 'Programación'\n",
    "}\n",
    "\n",
    "\n",
    "print(estudiante.keys())\n",
    "\n"
   ]
  },
  {
   "cell_type": "markdown",
   "metadata": {},
   "source": [
    "9. Crea un diccionario llamado \"agenda\" con tres entradas: \"Juan\" con el valor\n",
    "\"1234567890\", \"Joana\" con el valor \"9876543210\" y \"Jimena\" con el valor\n",
    "“5555555555”. "
   ]
  },
  {
   "cell_type": "code",
   "execution_count": null,
   "metadata": {},
   "outputs": [],
   "source": [
    "agenda = {\n",
    "    'juan': 123456890,\n",
    "    'joana': 9876543210,\n",
    "    'jimena': 5555555555,\n",
    "}\n",
    "\n",
    "print(agenda)\n",
    "print(type(agenda))"
   ]
  },
  {
   "cell_type": "markdown",
   "metadata": {},
   "source": [
    "10.Agrega una nueva entrada al diccionario \"agenda\" con la clave \"Julio\" y el valor\n",
    "“9998887777\". "
   ]
  },
  {
   "cell_type": "code",
   "execution_count": 27,
   "metadata": {},
   "outputs": [
    {
     "name": "stdout",
     "output_type": "stream",
     "text": [
      "{'juan': 123456890, 'joana': 9876543210, 'jimena': 5555555555, 'julio': 9998887777}\n",
      "<class 'dict'>\n"
     ]
    }
   ],
   "source": [
    "agenda = {\n",
    "    'juan': 123456890,\n",
    "    'joana': 9876543210,\n",
    "    'jimena': 5555555555,\n",
    "}\n",
    "\n",
    "agenda['julio'] = 9998887777\n",
    "\n",
    "print(agenda)\n",
    "print(type(agenda))"
   ]
  },
  {
   "cell_type": "markdown",
   "metadata": {},
   "source": [
    "11.Imprime el número de entradas (pares clave-valor) en el diccionario “agenda\". \n"
   ]
  },
  {
   "cell_type": "code",
   "execution_count": 29,
   "metadata": {},
   "outputs": [
    {
     "name": "stdout",
     "output_type": "stream",
     "text": [
      "4\n",
      "{'juan': 123456890, 'joana': 9876543210, 'jimena': 5555555555, 'julio': 9998887777}\n",
      "<class 'dict'>\n"
     ]
    }
   ],
   "source": [
    "agenda = {\n",
    "    'juan': 123456890,\n",
    "    'joana': 9876543210,\n",
    "    'jimena': 5555555555,\n",
    "}\n",
    "\n",
    "agenda['julio'] = 9998887777\n",
    "\n",
    "\n",
    "\n",
    "print(len(agenda))\n",
    "print(agenda)\n",
    "print(type(agenda))"
   ]
  },
  {
   "cell_type": "markdown",
   "metadata": {},
   "source": [
    "12.Crea una lista llamada \"claves\" que contenga todas las claves del diccionario\n",
    "“agenda\". "
   ]
  },
  {
   "cell_type": "code",
   "execution_count": 31,
   "metadata": {},
   "outputs": [
    {
     "name": "stdout",
     "output_type": "stream",
     "text": [
      "['juan', 'joana', 'jimena', 'julio']\n"
     ]
    }
   ],
   "source": [
    "agenda = {\n",
    "    'juan': 123456890,\n",
    "    'joana': 9876543210,\n",
    "    'jimena': 5555555555,\n",
    "}\n",
    "\n",
    "agenda['julio'] = 9998887777\n",
    "\n",
    "claves = list(agenda.keys())\n",
    "\n",
    "print(claves)"
   ]
  },
  {
   "cell_type": "markdown",
   "metadata": {},
   "source": [
    "13.Verifica si la clave \"Juan\" existe en el diccionario \"agenda\". Imprime \"True\" si existe y\n",
    "\"False\" en caso contrario."
   ]
  },
  {
   "cell_type": "code",
   "execution_count": 36,
   "metadata": {},
   "outputs": [
    {
     "name": "stdout",
     "output_type": "stream",
     "text": [
      "True\n",
      "123456890\n"
     ]
    }
   ],
   "source": [
    "agenda = {\n",
    "    'juan': 123456890,\n",
    "    'joana': 9876543210,\n",
    "    'jimena': 5555555555,\n",
    "    'julio': 9998887777,\n",
    "}\n",
    "\n",
    "printer = agenda.get('juan', False)\n",
    "\n",
    "print(printer if printer == False else True)\n",
    "\n",
    "print(printer)"
   ]
  },
  {
   "cell_type": "markdown",
   "metadata": {},
   "source": [
    "14.Elimina la entrada con la clave “Jimena”. \n"
   ]
  },
  {
   "cell_type": "code",
   "execution_count": 38,
   "metadata": {},
   "outputs": [
    {
     "name": "stdout",
     "output_type": "stream",
     "text": [
      "{'juan': 123456890, 'joana': 9876543210, 'julio': 9998887777}\n"
     ]
    }
   ],
   "source": [
    "agenda = {\n",
    "    'juan': 123456890,\n",
    "    'joana': 9876543210,\n",
    "    'jimena': 5555555555,\n",
    "    'julio': 9998887777,\n",
    "}\n",
    "\n",
    "del agenda['jimena']\n",
    "\n",
    "print(agenda)"
   ]
  },
  {
   "cell_type": "markdown",
   "metadata": {},
   "source": [
    "15.Utiliza un bucle for para iterar sobre todas las claves en el diccionario \"agenda\" e\n",
    "imprime cada par clave-valor en el formato \"Nombre: Número”. "
   ]
  },
  {
   "cell_type": "code",
   "execution_count": 42,
   "metadata": {},
   "outputs": [
    {
     "name": "stdout",
     "output_type": "stream",
     "text": [
      "juan : 123456890\n",
      "joana : 9876543210\n",
      "jimena : 5555555555\n",
      "julio : 9998887777\n"
     ]
    }
   ],
   "source": [
    "agenda = {\n",
    "    'juan': 123456890,\n",
    "    'joana': 9876543210,\n",
    "    'jimena': 5555555555,\n",
    "    'julio': 9998887777,\n",
    "}\n",
    "\n",
    "for nombre, numero in agenda.items():\n",
    "    print(nombre, ':', numero)"
   ]
  },
  {
   "cell_type": "markdown",
   "metadata": {},
   "source": [
    "16.Utiliza el método \"get()\" para obtener el valor asociado con la clave \"Juan\" en el\n",
    "diccionario \"agenda\". Si la clave no existe, imprime \"Clave no encontrada”."
   ]
  },
  {
   "cell_type": "code",
   "execution_count": 45,
   "metadata": {},
   "outputs": [
    {
     "name": "stdout",
     "output_type": "stream",
     "text": [
      "123456890\n",
      "Clave no encontrada\n"
     ]
    }
   ],
   "source": [
    "agenda = {\n",
    "    'juan': 123456890,\n",
    "    'joana': 9876543210,\n",
    "    'jimena': 5555555555,\n",
    "    'julio': 9998887777,\n",
    "}\n",
    "\n",
    "print(agenda.get('juan', 'Clave no encontrada'))\n",
    "\n",
    "del agenda['juan']\n",
    "\n",
    "print(agenda.get('juan', 'Clave no encontrada'))"
   ]
  },
  {
   "cell_type": "markdown",
   "metadata": {},
   "source": [
    "17.Borra todas las entradas del diccionario “agenda”.\n"
   ]
  },
  {
   "cell_type": "code",
   "execution_count": 51,
   "metadata": {},
   "outputs": [
    {
     "name": "stdout",
     "output_type": "stream",
     "text": [
      "{}\n"
     ]
    }
   ],
   "source": [
    "agenda = {\n",
    "    'juan': 123456890,\n",
    "    'joana': 9876543210,\n",
    "    'jimena': 5555555555,\n",
    "    'julio': 9998887777,\n",
    "}\n",
    "\n",
    "\n",
    "agenda.clear()\n",
    "\n",
    "print(agenda)"
   ]
  },
  {
   "cell_type": "markdown",
   "metadata": {},
   "source": [
    "LISTAS DE DICCIONARIOS:"
   ]
  },
  {
   "cell_type": "markdown",
   "metadata": {},
   "source": [
    "18. Crea una lista llamada \"estudiantes\" que contenga dos diccionarios. Cada diccionario\n",
    "representa a un estudiante y tiene las claves \"nombre\" y \"edad\" con sus respectivos\n",
    "valores. Recorre la lista e imprime el nombre y edad de cada estudiante."
   ]
  },
  {
   "cell_type": "code",
   "execution_count": 1,
   "metadata": {},
   "outputs": [
    {
     "name": "stdout",
     "output_type": "stream",
     "text": [
      "Nombre:  jose\n",
      "Edad:  25\n",
      "\n",
      "Nombre:  Sergio\n",
      "Edad:  26\n",
      "\n"
     ]
    }
   ],
   "source": [
    "estudiantes = [\n",
    "    {\n",
    "        \"nombre\": \"jose\",\n",
    "        \"edad\": 25,\n",
    "    }, \n",
    "    {\n",
    "        \"nombre\": \"Sergio\",\n",
    "        \"edad\": 26,\n",
    "    }, \n",
    "]\n",
    "for estudiante in estudiantes:\n",
    "    print('Nombre: ', estudiante['nombre'])\n",
    "    print('Edad: ', estudiante['edad'])\n",
    "    print('')"
   ]
  },
  {
   "cell_type": "markdown",
   "metadata": {},
   "source": [
    "19.Agrega un nuevo estudiante a la lista \"estudiantes\" utilizando un diccionario con las\n",
    "mismas claves \"nombre\" y \"edad\". Imprime la lista actualizada."
   ]
  },
  {
   "cell_type": "code",
   "execution_count": 2,
   "metadata": {},
   "outputs": [
    {
     "name": "stdout",
     "output_type": "stream",
     "text": [
      "[{'nombre': 'jose', 'edad': 25}, {'nombre': 'Sergio', 'edad': 26}, {'nombre': 'Javier', 'edad': 25}]\n"
     ]
    }
   ],
   "source": [
    "estudiantes.append({\n",
    "    \"nombre\": \"Javier\",\n",
    "    'edad': 25,\n",
    "})\n",
    "\n",
    "print(estudiantes)"
   ]
  },
  {
   "cell_type": "markdown",
   "metadata": {},
   "source": [
    "20.Elimina el segundo estudiante de la lista \"estudiantes\". Imprime la lista actualizada"
   ]
  },
  {
   "cell_type": "code",
   "execution_count": 8,
   "metadata": {},
   "outputs": [
    {
     "name": "stdout",
     "output_type": "stream",
     "text": [
      "[{'nombre': 'jose', 'edad': 25}, {'nombre': 'Javier', 'edad': 25}]\n"
     ]
    }
   ],
   "source": [
    "estudiantes.pop(1)\n",
    "print(estudiantes)"
   ]
  },
  {
   "cell_type": "markdown",
   "metadata": {},
   "source": [
    "21. Actualiza la edad del primer estudiante en la lista \"estudiantes\" a un nuevo valor.\n",
    "Imprime la lista actualizada."
   ]
  },
  {
   "cell_type": "code",
   "execution_count": 10,
   "metadata": {},
   "outputs": [
    {
     "name": "stdout",
     "output_type": "stream",
     "text": [
      "[{'nombre': 'jose', 'edad': 26}, {'nombre': 'Javier', 'edad': 25}]\n"
     ]
    }
   ],
   "source": [
    "estudiantes[0]['edad'] = 26\n",
    "\n",
    "print(estudiantes)"
   ]
  },
  {
   "cell_type": "markdown",
   "metadata": {},
   "source": [
    "ANIDAMIENTO DE DICCIONARIOS:"
   ]
  },
  {
   "cell_type": "markdown",
   "metadata": {},
   "source": [
    "22. Crea un diccionario llamado \"productos\" que contenga dos entradas. Cada entrada\n",
    "representa un producto y tiene a su vez las claves \"nombre\" y \"precio\" con sus\n",
    "respectivos valores. Recorre el diccionario e imprime el nombre y precio de cada\n",
    "producto."
   ]
  },
  {
   "cell_type": "code",
   "execution_count": 16,
   "metadata": {},
   "outputs": [
    {
     "name": "stdout",
     "output_type": "stream",
     "text": [
      "Productos en venta:\n",
      "Nombre:  Playstation 5\n",
      "Precio;  499\n",
      "\n",
      "Nombre:  Televisión 65\" 4K\n",
      "Precio;  600\n",
      "\n"
     ]
    }
   ],
   "source": [
    "productos = {\n",
    "    'producto1': {\n",
    "        'nombre': 'Playstation 5',\n",
    "        'precio': 499,\n",
    "    },\n",
    "    'producto2': {\n",
    "        'nombre': 'Televisión 65\" 4K',\n",
    "        'precio': 600,\n",
    "    }\n",
    "}\n",
    "print('Productos en venta:')\n",
    "for producto in productos:\n",
    "    print('Nombre: ', productos[producto]['nombre'])\n",
    "    print('Precio; ', productos[producto]['precio'])\n",
    "    print('')"
   ]
  },
  {
   "cell_type": "markdown",
   "metadata": {},
   "source": [
    "23. Agrega un nuevo producto al diccionario \"productos\" utilizando una nueva clave y\n",
    "valor. Imprime el diccionario actualizado."
   ]
  },
  {
   "cell_type": "code",
   "execution_count": 19,
   "metadata": {},
   "outputs": [
    {
     "name": "stdout",
     "output_type": "stream",
     "text": [
      "Nombre:  Playstation 5\n",
      "Precio;  499\n",
      "\n",
      "Nombre:  Televisión 65\" 4K\n",
      "Precio;  600\n",
      "\n",
      "Nombre:  Mando Dualsense PS5\n",
      "Precio;  70\n",
      "\n"
     ]
    }
   ],
   "source": [
    "productos['producto3'] = {\n",
    "    'nombre': 'Mando Dualsense PS5', \n",
    "    'precio': 70\n",
    "}\n",
    "\n",
    "for producto in productos:\n",
    "    print('Nombre: ', productos[producto]['nombre'])\n",
    "    print('Precio; ', productos[producto]['precio'])\n",
    "    print('')"
   ]
  },
  {
   "cell_type": "markdown",
   "metadata": {},
   "source": [
    "24.Crea un diccionario llamado \"equipos\" que contenga tres entradas. Cada entrada\n",
    "representa un equipo deportivo y tiene las claves \"nombre\" y \"jugadores\" con sus\n",
    "respectivos valores. Los valores de \"jugadores\" deben ser listas con los nombres de\n",
    "los jugadores. Recorre el diccionario e imprime el nombre del equipo y la lista de\n",
    "jugadores."
   ]
  },
  {
   "cell_type": "code",
   "execution_count": 43,
   "metadata": {},
   "outputs": [
    {
     "name": "stdout",
     "output_type": "stream",
     "text": [
      "Nombre del equipo Real Betis Balompie\n",
      "Lista de Jugadores\n",
      "---------------------------\n",
      "Isco Alarcón\n",
      "Giovani Lo Celso\n",
      "Marc Bartra\n",
      "Vitor Roque\n",
      "\n",
      "Nombre del equipo Sevilla Fútbol Club\n",
      "Lista de Jugadores\n",
      "---------------------------\n",
      "Nyland\n",
      "Jesús Navas\n",
      "Kike Salas\n",
      "Isaac\n",
      "\n",
      "Nombre del equipo Real Club Deportivo Mallorca\n",
      "Lista de Jugadores\n",
      "---------------------------\n",
      "Samu Costa\n",
      "Morlanes\n",
      "Valjent\n",
      "Navarro\n",
      "\n"
     ]
    }
   ],
   "source": [
    "equipos = {\n",
    "    'realbetisbalompie': {\n",
    "        'nombre': 'Real Betis Balompie',\n",
    "        'jugadores': [\n",
    "            'Isco Alarcón',\n",
    "            'Giovani Lo Celso',\n",
    "            'Marc Bartra',\n",
    "            'Vitor Roque',\n",
    "        ],\n",
    "    },\n",
    "    'sevillafc': {\n",
    "        'nombre': 'Sevilla Fútbol Club',\n",
    "        'jugadores': [\n",
    "            'Nyland',\n",
    "            'Jesús Navas',\n",
    "            'Kike Salas',\n",
    "            'Isaac',\n",
    "        ],\n",
    "    },\n",
    "    'rcdmallorca': {\n",
    "        'nombre': 'Real Club Deportivo Mallorca',\n",
    "        'jugadores': [\n",
    "            'Samu Costa',\n",
    "            'Morlanes',\n",
    "            'Valjent',\n",
    "            'Navarro',\n",
    "            \n",
    "        ],\n",
    "    },\n",
    "}\n",
    "\n",
    "for equipo in equipos:\n",
    "    print('Nombre del equipo', equipos[equipo]['nombre'])\n",
    "    print('Lista de Jugadores')\n",
    "    print('---------------------------')\n",
    "    [print(jugador) for jugador in equipos[equipo]['jugadores']]\n",
    "    print()"
   ]
  },
  {
   "cell_type": "markdown",
   "metadata": {},
   "source": [
    "25.Agrega un nuevo equipo al diccionario \"equipos\" utilizando una nueva clave y valor.\n",
    "La lista de jugadores debe contener al menos tres nombres. Imprime el diccionario\n",
    "actualizado."
   ]
  },
  {
   "cell_type": "code",
   "execution_count": 44,
   "metadata": {},
   "outputs": [
    {
     "name": "stdout",
     "output_type": "stream",
     "text": [
      "Nombre del equipo Real Betis Balompie\n",
      "Lista de Jugadores\n",
      "---------------------------\n",
      "Isco Alarcón\n",
      "Giovani Lo Celso\n",
      "Marc Bartra\n",
      "Vitor Roque\n",
      "\n",
      "Nombre del equipo Sevilla Fútbol Club\n",
      "Lista de Jugadores\n",
      "---------------------------\n",
      "Nyland\n",
      "Jesús Navas\n",
      "Kike Salas\n",
      "Isaac\n",
      "\n",
      "Nombre del equipo Real Club Deportivo Mallorca\n",
      "Lista de Jugadores\n",
      "---------------------------\n",
      "Samu Costa\n",
      "Morlanes\n",
      "Valjent\n",
      "Navarro\n",
      "\n",
      "Nombre del equipo Fútbol Club Barcelona\n",
      "Lista de Jugadores\n",
      "---------------------------\n",
      "Raphinha\n",
      "Frenkie De Jong\n",
      "Pau Cubarsí\n",
      "Pedri\n",
      "\n"
     ]
    }
   ],
   "source": [
    "equipos['fcbbarcelona'] = {\n",
    "    'nombre': 'Fútbol Club Barcelona',\n",
    "    'jugadores': [\n",
    "        'Raphinha',\n",
    "        'Frenkie De Jong',\n",
    "        'Pau Cubarsí',\n",
    "        'Pedri',\n",
    "    ],\n",
    "} \n",
    "\n",
    "for equipo in equipos:\n",
    "    print('Nombre del equipo', equipos[equipo]['nombre'])\n",
    "    print('Lista de Jugadores')\n",
    "    print('---------------------------')\n",
    "    [print(jugador) for jugador in equipos[equipo]['jugadores']]\n",
    "    print()"
   ]
  },
  {
   "cell_type": "markdown",
   "metadata": {},
   "source": [
    "26.Actualiza la lista de jugadores de uno de los equipos existentes en el diccionario\n",
    "\"equipos\". Agrega un nuevo jugador a la lista. Imprime el diccionario actualizado."
   ]
  },
  {
   "cell_type": "code",
   "execution_count": 50,
   "metadata": {},
   "outputs": [
    {
     "name": "stdout",
     "output_type": "stream",
     "text": [
      "Nombre del equipo Real Betis Balompie\n",
      "Lista de Jugadores\n",
      "---------------------------\n",
      "Isco Alarcón\n",
      "Giovani Lo Celso\n",
      "Marc Bartra\n",
      "Vitor Roque\n",
      "Jhonny Cardoso\n",
      "\n",
      "Nombre del equipo Sevilla Fútbol Club\n",
      "Lista de Jugadores\n",
      "---------------------------\n",
      "Nyland\n",
      "Jesús Navas\n",
      "Kike Salas\n",
      "Isaac\n",
      "\n",
      "Nombre del equipo Real Club Deportivo Mallorca\n",
      "Lista de Jugadores\n",
      "---------------------------\n",
      "Samu Costa\n",
      "Morlanes\n",
      "Valjent\n",
      "Navarro\n",
      "\n",
      "Nombre del equipo Fútbol Club Barcelona\n",
      "Lista de Jugadores\n",
      "---------------------------\n",
      "Raphinha\n",
      "Frenkie De Jong\n",
      "Pau Cubarsí\n",
      "Pedri\n",
      "\n"
     ]
    }
   ],
   "source": [
    "if 'Jhonny Cardoso' not in equipos['realbetisbalompie']['jugadores']:\n",
    "    equipos['realbetisbalompie']['jugadores'].append('Jhonny Cardoso')\n",
    "\n",
    "for equipo in equipos:\n",
    "    print('Nombre del equipo', equipos[equipo]['nombre'])\n",
    "    print('Lista de Jugadores')\n",
    "    print('---------------------------')\n",
    "    [print(jugador) for jugador in equipos[equipo]['jugadores']]\n",
    "    print()"
   ]
  }
 ],
 "metadata": {
  "kernelspec": {
   "display_name": "conquer_blocks",
   "language": "python",
   "name": "python3"
  },
  "language_info": {
   "codemirror_mode": {
    "name": "ipython",
    "version": 3
   },
   "file_extension": ".py",
   "mimetype": "text/x-python",
   "name": "python",
   "nbconvert_exporter": "python",
   "pygments_lexer": "ipython3",
   "version": "3.13.0"
  }
 },
 "nbformat": 4,
 "nbformat_minor": 2
}
