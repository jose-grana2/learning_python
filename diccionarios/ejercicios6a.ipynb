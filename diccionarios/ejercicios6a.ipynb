{
 "cells": [
  {
   "cell_type": "markdown",
   "metadata": {},
   "source": [
    "1. Crea un diccionario vacío llamado “mi_diccionario”.\n",
    "\n"
   ]
  },
  {
   "cell_type": "code",
   "execution_count": 3,
   "metadata": {},
   "outputs": [
    {
     "name": "stdout",
     "output_type": "stream",
     "text": [
      "{}\n",
      "<class 'dict'>\n"
     ]
    }
   ],
   "source": [
    "mi_diccionario = {}\n",
    "print(mi_diccionario)\n",
    "print(type(mi_diccionario))\n"
   ]
  },
  {
   "cell_type": "markdown",
   "metadata": {},
   "source": [
    "2. Agrega un par clave-valor a \"mi_diccionario\" donde la clave sea \"nombre\" y el valor\n",
    "sea tu nombre. "
   ]
  },
  {
   "cell_type": "code",
   "execution_count": 4,
   "metadata": {},
   "outputs": [
    {
     "name": "stdout",
     "output_type": "stream",
     "text": [
      "{'nombre': 'jose'}\n",
      "<class 'dict'>\n"
     ]
    }
   ],
   "source": [
    "mi_diccionario = {\n",
    "    'nombre': 'jose'\n",
    "}\n",
    "print(mi_diccionario)\n",
    "print(type(mi_diccionario))"
   ]
  },
  {
   "cell_type": "markdown",
   "metadata": {},
   "source": [
    "3. Accede e imprime el valor asociado con la clave \"nombre\" en “mi_diccionario\". \n"
   ]
  },
  {
   "cell_type": "code",
   "execution_count": 5,
   "metadata": {},
   "outputs": [
    {
     "name": "stdout",
     "output_type": "stream",
     "text": [
      "jose\n",
      "<class 'dict'>\n"
     ]
    }
   ],
   "source": [
    "mi_diccionario = {\n",
    "    'nombre': 'jose'\n",
    "}\n",
    "print(mi_diccionario['nombre'])\n",
    "print(type(mi_diccionario))"
   ]
  },
  {
   "cell_type": "markdown",
   "metadata": {},
   "source": [
    "4. Verfica si la clave \"edad\" existe en \"mi_diccionario\". Imprime \"True\" si existe y \"False\"\n",
    "en caso contrario. \n"
   ]
  },
  {
   "cell_type": "code",
   "execution_count": 22,
   "metadata": {},
   "outputs": [
    {
     "name": "stdout",
     "output_type": "stream",
     "text": [
      "False\n",
      "{'nombre': 'jose'}\n",
      "<class 'dict'>\n"
     ]
    }
   ],
   "source": [
    "mi_diccionario = {\n",
    "    'nombre': 'jose',\n",
    "}\n",
    "\n",
    "printer = mi_diccionario.get('edad', False)\n",
    "\n",
    "print(printer if printer == False else True)\n",
    "print(mi_diccionario)\n",
    "print(type(mi_diccionario))"
   ]
  },
  {
   "cell_type": "markdown",
   "metadata": {},
   "source": [
    "5. Crea un diccionario llamado \"estudiante\" con los siguientes pares clave-valor:\n",
    "    \"nombre\" con el nombre del alumno, \n",
    "    \"edad\" con su edad y \n",
    "    \"materia\" con su materia favorita. "
   ]
  },
  {
   "cell_type": "code",
   "execution_count": 23,
   "metadata": {},
   "outputs": [
    {
     "name": "stdout",
     "output_type": "stream",
     "text": [
      "{'nombre': 'Jose', 'edad': '25', 'materia': 'Programación'}\n",
      "<class 'dict'>\n"
     ]
    }
   ],
   "source": [
    "estudiante = {\n",
    "    'nombre': 'Jose',\n",
    "    'edad': '25',\n",
    "    'materia': 'Programación'\n",
    "}\n",
    "\n",
    "print(estudiante)\n",
    "print(type(estudiante))\n",
    "\n"
   ]
  },
  {
   "cell_type": "markdown",
   "metadata": {},
   "source": [
    "6. Actualiza el valor de la clave \"edad\" en el diccionario \"estudiante\" para reejar la edad\n",
    "actual de tu amigo. "
   ]
  },
  {
   "cell_type": "code",
   "execution_count": 24,
   "metadata": {},
   "outputs": [
    {
     "name": "stdout",
     "output_type": "stream",
     "text": [
      "{'nombre': 'Jose', 'edad': 26, 'materia': 'Programación'}\n",
      "<class 'dict'>\n"
     ]
    }
   ],
   "source": [
    "estudiante = {\n",
    "    'nombre': 'Jose',\n",
    "    'edad': '25',\n",
    "    'materia': 'Programación'\n",
    "}\n",
    "\n",
    "estudiante['edad'] = 26\n",
    "\n",
    "print(estudiante)\n",
    "print(type(estudiante))\n",
    "\n"
   ]
  },
  {
   "cell_type": "markdown",
   "metadata": {},
   "source": [
    "7. Elimina el par clave-valor con la clave \"materia\" del diccionario “estudiante\""
   ]
  },
  {
   "cell_type": "code",
   "execution_count": 25,
   "metadata": {},
   "outputs": [
    {
     "name": "stdout",
     "output_type": "stream",
     "text": [
      "{'nombre': 'Jose', 'edad': '25'}\n",
      "<class 'dict'>\n"
     ]
    }
   ],
   "source": [
    "estudiante = {\n",
    "    'nombre': 'Jose',\n",
    "    'edad': '25',\n",
    "    'materia': 'Programación'\n",
    "}\n",
    "\n",
    "del estudiante['materia']\n",
    "\n",
    "print(estudiante)\n",
    "print(type(estudiante))\n",
    "\n"
   ]
  },
  {
   "cell_type": "markdown",
   "metadata": {},
   "source": [
    "8. Imprime todas las claves en el diccionario “estudiante\". "
   ]
  },
  {
   "cell_type": "code",
   "execution_count": 26,
   "metadata": {},
   "outputs": [
    {
     "name": "stdout",
     "output_type": "stream",
     "text": [
      "dict_keys(['nombre', 'edad', 'materia'])\n",
      "<class 'dict'>\n"
     ]
    }
   ],
   "source": [
    "estudiante = {\n",
    "    'nombre': 'Jose',\n",
    "    'edad': '25',\n",
    "    'materia': 'Programación'\n",
    "}\n",
    "\n",
    "\n",
    "print(estudiante.keys())\n",
    "\n"
   ]
  },
  {
   "cell_type": "markdown",
   "metadata": {},
   "source": [
    "9. Crea un diccionario llamado \"agenda\" con tres entradas: \"Juan\" con el valor\n",
    "\"1234567890\", \"Joana\" con el valor \"9876543210\" y \"Jimena\" con el valor\n",
    "“5555555555”. "
   ]
  },
  {
   "cell_type": "code",
   "execution_count": null,
   "metadata": {},
   "outputs": [],
   "source": [
    "agenda = {\n",
    "    'juan': 123456890,\n",
    "    'joana': 9876543210,\n",
    "    'jimena': 5555555555,\n",
    "}\n",
    "\n",
    "print(agenda)\n",
    "print(type(agenda))"
   ]
  },
  {
   "cell_type": "markdown",
   "metadata": {},
   "source": [
    "10.Agrega una nueva entrada al diccionario \"agenda\" con la clave \"Julio\" y el valor\n",
    "“9998887777\". "
   ]
  },
  {
   "cell_type": "code",
   "execution_count": 27,
   "metadata": {},
   "outputs": [
    {
     "name": "stdout",
     "output_type": "stream",
     "text": [
      "{'juan': 123456890, 'joana': 9876543210, 'jimena': 5555555555, 'julio': 9998887777}\n",
      "<class 'dict'>\n"
     ]
    }
   ],
   "source": [
    "agenda = {\n",
    "    'juan': 123456890,\n",
    "    'joana': 9876543210,\n",
    "    'jimena': 5555555555,\n",
    "}\n",
    "\n",
    "agenda['julio'] = 9998887777\n",
    "\n",
    "print(agenda)\n",
    "print(type(agenda))"
   ]
  },
  {
   "cell_type": "markdown",
   "metadata": {},
   "source": [
    "11.Imprime el número de entradas (pares clave-valor) en el diccionario “agenda\". \n"
   ]
  },
  {
   "cell_type": "code",
   "execution_count": 29,
   "metadata": {},
   "outputs": [
    {
     "name": "stdout",
     "output_type": "stream",
     "text": [
      "4\n",
      "{'juan': 123456890, 'joana': 9876543210, 'jimena': 5555555555, 'julio': 9998887777}\n",
      "<class 'dict'>\n"
     ]
    }
   ],
   "source": [
    "agenda = {\n",
    "    'juan': 123456890,\n",
    "    'joana': 9876543210,\n",
    "    'jimena': 5555555555,\n",
    "}\n",
    "\n",
    "agenda['julio'] = 9998887777\n",
    "\n",
    "\n",
    "\n",
    "print(len(agenda))\n",
    "print(agenda)\n",
    "print(type(agenda))"
   ]
  },
  {
   "cell_type": "markdown",
   "metadata": {},
   "source": [
    "12.Crea una lista llamada \"claves\" que contenga todas las claves del diccionario\n",
    "“agenda\". "
   ]
  },
  {
   "cell_type": "code",
   "execution_count": 31,
   "metadata": {},
   "outputs": [
    {
     "name": "stdout",
     "output_type": "stream",
     "text": [
      "['juan', 'joana', 'jimena', 'julio']\n"
     ]
    }
   ],
   "source": [
    "agenda = {\n",
    "    'juan': 123456890,\n",
    "    'joana': 9876543210,\n",
    "    'jimena': 5555555555,\n",
    "}\n",
    "\n",
    "agenda['julio'] = 9998887777\n",
    "\n",
    "claves = list(agenda.keys())\n",
    "\n",
    "print(claves)"
   ]
  },
  {
   "cell_type": "markdown",
   "metadata": {},
   "source": [
    "13.Verifica si la clave \"Juan\" existe en el diccionario \"agenda\". Imprime \"True\" si existe y\n",
    "\"False\" en caso contrario."
   ]
  },
  {
   "cell_type": "code",
   "execution_count": 36,
   "metadata": {},
   "outputs": [
    {
     "name": "stdout",
     "output_type": "stream",
     "text": [
      "True\n",
      "123456890\n"
     ]
    }
   ],
   "source": [
    "agenda = {\n",
    "    'juan': 123456890,\n",
    "    'joana': 9876543210,\n",
    "    'jimena': 5555555555,\n",
    "    'julio': 9998887777,\n",
    "}\n",
    "\n",
    "printer = agenda.get('juan', False)\n",
    "\n",
    "print(printer if printer == False else True)\n",
    "\n",
    "print(printer)"
   ]
  },
  {
   "cell_type": "markdown",
   "metadata": {},
   "source": [
    "14.Elimina la entrada con la clave “Jimena”. \n"
   ]
  },
  {
   "cell_type": "code",
   "execution_count": 38,
   "metadata": {},
   "outputs": [
    {
     "name": "stdout",
     "output_type": "stream",
     "text": [
      "{'juan': 123456890, 'joana': 9876543210, 'julio': 9998887777}\n"
     ]
    }
   ],
   "source": [
    "agenda = {\n",
    "    'juan': 123456890,\n",
    "    'joana': 9876543210,\n",
    "    'jimena': 5555555555,\n",
    "    'julio': 9998887777,\n",
    "}\n",
    "\n",
    "del agenda['jimena']\n",
    "\n",
    "print(agenda)"
   ]
  },
  {
   "cell_type": "markdown",
   "metadata": {},
   "source": [
    "15.Utiliza un bucle for para iterar sobre todas las claves en el diccionario \"agenda\" e\n",
    "imprime cada par clave-valor en el formato \"Nombre: Número”. "
   ]
  },
  {
   "cell_type": "code",
   "execution_count": 42,
   "metadata": {},
   "outputs": [
    {
     "name": "stdout",
     "output_type": "stream",
     "text": [
      "juan : 123456890\n",
      "joana : 9876543210\n",
      "jimena : 5555555555\n",
      "julio : 9998887777\n"
     ]
    }
   ],
   "source": [
    "agenda = {\n",
    "    'juan': 123456890,\n",
    "    'joana': 9876543210,\n",
    "    'jimena': 5555555555,\n",
    "    'julio': 9998887777,\n",
    "}\n",
    "\n",
    "for nombre, numero in agenda.items():\n",
    "    print(nombre, ':', numero)"
   ]
  },
  {
   "cell_type": "markdown",
   "metadata": {},
   "source": [
    "16.Utiliza el método \"get()\" para obtener el valor asociado con la clave \"Juan\" en el\n",
    "diccionario \"agenda\". Si la clave no existe, imprime \"Clave no encontrada”."
   ]
  },
  {
   "cell_type": "code",
   "execution_count": 45,
   "metadata": {},
   "outputs": [
    {
     "name": "stdout",
     "output_type": "stream",
     "text": [
      "123456890\n",
      "Clave no encontrada\n"
     ]
    }
   ],
   "source": [
    "agenda = {\n",
    "    'juan': 123456890,\n",
    "    'joana': 9876543210,\n",
    "    'jimena': 5555555555,\n",
    "    'julio': 9998887777,\n",
    "}\n",
    "\n",
    "print(agenda.get('juan', 'Clave no encontrada'))\n",
    "\n",
    "del agenda['juan']\n",
    "\n",
    "print(agenda.get('juan', 'Clave no encontrada'))"
   ]
  },
  {
   "cell_type": "markdown",
   "metadata": {},
   "source": [
    "17.Borra todas las entradas del diccionario “agenda”.\n"
   ]
  },
  {
   "cell_type": "code",
   "execution_count": 51,
   "metadata": {},
   "outputs": [
    {
     "name": "stdout",
     "output_type": "stream",
     "text": [
      "{}\n"
     ]
    }
   ],
   "source": [
    "agenda = {\n",
    "    'juan': 123456890,\n",
    "    'joana': 9876543210,\n",
    "    'jimena': 5555555555,\n",
    "    'julio': 9998887777,\n",
    "}\n",
    "\n",
    "\n",
    "agenda.clear()\n",
    "\n",
    "print(agenda)"
   ]
  }
 ],
 "metadata": {
  "kernelspec": {
   "display_name": "conquer_blocks",
   "language": "python",
   "name": "python3"
  },
  "language_info": {
   "codemirror_mode": {
    "name": "ipython",
    "version": 3
   },
   "file_extension": ".py",
   "mimetype": "text/x-python",
   "name": "python",
   "nbconvert_exporter": "python",
   "pygments_lexer": "ipython3",
   "version": "3.13.0"
  }
 },
 "nbformat": 4,
 "nbformat_minor": 2
}
