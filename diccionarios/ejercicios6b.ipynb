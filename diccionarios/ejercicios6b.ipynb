{
 "cells": [
  {
   "cell_type": "markdown",
   "metadata": {},
   "source": [
    "REGISTRO DE VENTAS:\n",
    "\n",
    "Tienes una tienda y deseas realizar un seguimiento de las ventas diarias\n",
    "de tus productos. Cada producto tiene un nombre y una cantidad\n",
    "vendida. Implementa un programa en Python que utilice un diccionario\n",
    "para almacenar la información de las ventas. El programa debe permitir\n",
    "registrar las ventas de productos, actualizar la cantidad vendida de un\n",
    "producto existente y calcular el total de ventas diarias."
   ]
  },
  {
   "cell_type": "code",
   "execution_count": 53,
   "metadata": {},
   "outputs": [],
   "source": [
    "ventas_bd = {\n",
    "    'sale0': {\n",
    "        'product0': {\n",
    "            'name': 'Gafas', \n",
    "            'amount': 2\n",
    "        }, \n",
    "        'product1': {\n",
    "            'name': 'Libro', \n",
    "            'amount': 2\n",
    "        }\n",
    "    }\n",
    "}"
   ]
  },
  {
   "cell_type": "code",
   "execution_count": null,
   "metadata": {},
   "outputs": [
    {
     "name": "stdout",
     "output_type": "stream",
     "text": [
      "Debes escribir nueva o modificacion para poder entrar al programa, por favor vuelva a ejecutar\n"
     ]
    }
   ],
   "source": [
    "type_sale = input('Selecciona si quieres hacer una nueva venta o una modificación de ventas (nueva/modificacion)')\n",
    "xxxxxxxx\n",
    "if (type_sale == 'nueva'):\n",
    "    n_product = int(input('¿Cuántos productos desea añadir a la venta?'))\n",
    "    i = 0\n",
    "    number_sale = 'sale' + str(len(ventas_bd))\n",
    "    if  number_sale not in ventas_bd.keys():\n",
    "        ventas_bd[number_sale] = {}\n",
    "\n",
    "    while (i < n_product):\n",
    "        product_name = input('Introduce el nombre del producto')\n",
    "        product_amount = int(input('Introduce la cantidad'))\n",
    "        ventas_bd[number_sale]['product' + str(i)] = {\n",
    "            'amount' : product_amount,\n",
    "        } \n",
    "        i = i + 1\n",
    "    print(ventas_bd)\n",
    "\n",
    "elif (type_sale == 'modificacion'):\n",
    "    sale_id = input('Por favor, introduce el id de la venta')\n",
    "    product_id = input('Por favor introduce el numero de que desea modificar')\n",
    "    product_id = 'product' + product_id\n",
    "    field_to_modify = input('Por favor introduce el campo que deseas modificar (name/amount)')\n",
    "    new_value = input('Ahora necesitamos el nuevo valor que quiere asignar')\n",
    "\n",
    "    if (sale_id in ventas_bd.keys()):\n",
    "        if (product_id in ventas_bd[sale_id].keys()):\n",
    "            if (field_to_modify in ventas_bd[sale_id][product_id].keys()):\n",
    "                ventas_bd[sale_id][product_id][field_to_modify] = new_value\n",
    "            else:\n",
    "                print('No has elegido bien el campo a modificar')\n",
    "                print(ventas_bd[sale_id][product_id].keys())\n",
    "        else:\n",
    "            print('El product_id elegido no es existe')\n",
    "            print(ventas_bd[sale_id].keys())\n",
    "    else:\n",
    "        print('No has elegido bien el sale_id')\n",
    "        print(ventas_bd.keys())\n",
    "\n",
    "    print(ventas_bd)\n",
    "\n",
    "\n",
    "else:\n",
    "    print('Debes escribir nueva o modificacion para poder entrar al programa, por favor vuelva a ejecutar')\n"
   ]
  }
 ],
 "metadata": {
  "kernelspec": {
   "display_name": "conquer_blocks",
   "language": "python",
   "name": "python3"
  },
  "language_info": {
   "codemirror_mode": {
    "name": "ipython",
    "version": 3
   },
   "file_extension": ".py",
   "mimetype": "text/x-python",
   "name": "python",
   "nbconvert_exporter": "python",
   "pygments_lexer": "ipython3",
   "version": "3.13.0"
  }
 },
 "nbformat": 4,
 "nbformat_minor": 2
}
