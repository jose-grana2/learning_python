{
 "cells": [
  {
   "cell_type": "markdown",
   "metadata": {},
   "source": [
    "1. Crea una tupla con tres elementos y imprime por pantalla cada uno de ellos en una\n",
    "nueva linea."
   ]
  },
  {
   "cell_type": "code",
   "execution_count": 4,
   "metadata": {},
   "outputs": [
    {
     "name": "stdout",
     "output_type": "stream",
     "text": [
      "El lenguaje de programación es Python\n",
      "En la version: 3.12\n",
      "Y se encuentra desactivado\n"
     ]
    }
   ],
   "source": [
    "tuple = ('Python', 3.12, False)\n",
    "language, version, activate = tuple\n",
    "\n",
    "print('El lenguaje de programación es', language)\n",
    "print('En la version:', version)\n",
    "print('Y se encuentra', 'activado' if activate else 'desactivado')"
   ]
  },
  {
   "cell_type": "markdown",
   "metadata": {},
   "source": [
    "2. Crea una lista con tres elementos e intenta modificarla. Haz lo mismo con la tupla.\n",
    "¿Cuáles son las diferencias?"
   ]
  },
  {
   "cell_type": "code",
   "execution_count": null,
   "metadata": {},
   "outputs": [],
   "source": [
    "list = ['Python', 3.12, False]\n"
   ]
  }
 ],
 "metadata": {
  "kernelspec": {
   "display_name": "conquer_blocks",
   "language": "python",
   "name": "python3"
  },
  "language_info": {
   "codemirror_mode": {
    "name": "ipython",
    "version": 3
   },
   "file_extension": ".py",
   "mimetype": "text/x-python",
   "name": "python",
   "nbconvert_exporter": "python",
   "pygments_lexer": "ipython3",
   "version": "3.13.0"
  }
 },
 "nbformat": 4,
 "nbformat_minor": 2
}
