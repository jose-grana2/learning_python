{
 "cells": [
  {
   "cell_type": "markdown",
   "metadata": {},
   "source": [
    "1. Crea una tupla con tres elementos y imprime por pantalla cada uno de ellos en una\n",
    "nueva linea."
   ]
  },
  {
   "cell_type": "code",
   "execution_count": 4,
   "metadata": {},
   "outputs": [
    {
     "name": "stdout",
     "output_type": "stream",
     "text": [
      "El lenguaje de programación es Python\n",
      "En la version: 3.12\n",
      "Y se encuentra desactivado\n"
     ]
    }
   ],
   "source": [
    "tuple = ('Python', 3.12, False)\n",
    "language, version, activate = tuple\n",
    "\n",
    "print('El lenguaje de programación es', language)\n",
    "print('En la version:', version)\n",
    "print('Y se encuentra', 'activado' if activate else 'desactivado')"
   ]
  },
  {
   "cell_type": "markdown",
   "metadata": {},
   "source": [
    "2. Crea una lista con tres elementos e intenta modificarla. Haz lo mismo con la tupla.\n",
    "¿Cuáles son las diferencias?"
   ]
  },
  {
   "cell_type": "code",
   "execution_count": null,
   "metadata": {},
   "outputs": [
    {
     "name": "stdout",
     "output_type": "stream",
     "text": [
      "['PHP', 3.12, False]\n"
     ]
    },
    {
     "ename": "TypeError",
     "evalue": "'tuple' object does not support item assignment",
     "output_type": "error",
     "traceback": [
      "\u001b[0;31m---------------------------------------------------------------------------\u001b[0m",
      "\u001b[0;31mTypeError\u001b[0m                                 Traceback (most recent call last)",
      "Cell \u001b[0;32mIn[4], line 8\u001b[0m\n\u001b[1;32m      4\u001b[0m \u001b[38;5;28mlist\u001b[39m[\u001b[38;5;241m0\u001b[39m] \u001b[38;5;241m=\u001b[39m \u001b[38;5;124m'\u001b[39m\u001b[38;5;124mPHP\u001b[39m\u001b[38;5;124m'\u001b[39m\n\u001b[1;32m      6\u001b[0m \u001b[38;5;28mprint\u001b[39m(\u001b[38;5;28mlist\u001b[39m)\n\u001b[0;32m----> 8\u001b[0m \u001b[43mtupla\u001b[49m\u001b[43m[\u001b[49m\u001b[38;5;241;43m0\u001b[39;49m\u001b[43m]\u001b[49m \u001b[38;5;241m=\u001b[39m \u001b[38;5;124m'\u001b[39m\u001b[38;5;124mJAVA\u001b[39m\u001b[38;5;124m'\u001b[39m\n\u001b[1;32m      9\u001b[0m \u001b[38;5;28mprint\u001b[39m(tupla)\n",
      "\u001b[0;31mTypeError\u001b[0m: 'tuple' object does not support item assignment"
     ]
    }
   ],
   "source": [
    "list = ['Python', 3.12, False]\n",
    "tupla = ('Python', 3.12, False)\n",
    "\n",
    "list[0] = 'PHP'\n",
    "print(list)\n",
    "\n",
    "tupla[0] = 'JAVA' #Esto no se puede hacer\n",
    "print(tupla)\n"
   ]
  },
  {
   "cell_type": "markdown",
   "metadata": {},
   "source": [
    "3. Crea una tupla de enteros y devuelve la suma de los elementos."
   ]
  },
  {
   "cell_type": "code",
   "execution_count": 5,
   "metadata": {},
   "outputs": [
    {
     "name": "stdout",
     "output_type": "stream",
     "text": [
      "199\n"
     ]
    }
   ],
   "source": [
    "tupla_int = (5, 6, 7, 89, 0, 87, 5)\n",
    "\n",
    "suma_tupla = sum(tupla_int)\n",
    "\n",
    "print(suma_tupla)"
   ]
  },
  {
   "cell_type": "markdown",
   "metadata": {},
   "source": [
    "4. Crea un script que dada una tupla que contiene strings cree una nueva tupla con el\n",
    "primer caracter de cada string."
   ]
  },
  {
   "cell_type": "code",
   "execution_count": null,
   "metadata": {},
   "outputs": [
    {
     "name": "stdout",
     "output_type": "stream",
     "text": [
      "('m', 'p', 'n')\n"
     ]
    }
   ],
   "source": [
    "mi_tupla = ('manzana', 'platano', 'naranja')\n",
    "lista = []\n",
    "\n",
    "for palabra in mi_tupla:\n",
    "    lista.append(palabra[0])\n",
    "\n",
    "iniciales_tupla = tuple(lista)\n",
    "print(iniciales_tupla)\n",
    "\n"
   ]
  },
  {
   "cell_type": "markdown",
   "metadata": {},
   "source": [
    " = input()\n",
    "tupla = ()"
   ]
  },
  {
   "cell_type": "markdown",
   "metadata": {},
   "source": [
    "5. Crea un script que dada una tupla de números devuelva el producto de todos los\n",
    "números pares."
   ]
  },
  {
   "cell_type": "code",
   "execution_count": 7,
   "metadata": {},
   "outputs": [
    {
     "name": "stdout",
     "output_type": "stream",
     "text": [
      "384\n"
     ]
    }
   ],
   "source": [
    "mi_tupla = (1, 2, 3, 4, 5, 6, 7, 8, 9)\n",
    "result_pares = 1\n",
    "for numero in mi_tupla:\n",
    "    if numero % 2 == 0:\n",
    "        result_pares = result_pares * numero\n",
    "print(result_pares)\n",
    "\n"
   ]
  },
  {
   "cell_type": "markdown",
   "metadata": {},
   "source": [
    "6. Crea un script que dada una tupla de números, devuelva la tupla con los numeros\n",
    "ordeandos en orden descendente."
   ]
  },
  {
   "cell_type": "code",
   "execution_count": null,
   "metadata": {},
   "outputs": [
    {
     "name": "stdout",
     "output_type": "stream",
     "text": [
      "[9, 8, 7, 6, 5, 4, 3, 2, 1]\n"
     ]
    }
   ],
   "source": [
    "mi_tupla = (1, 2, 3, 4, 5, 6, 7, 8, 9)\n",
    "\n",
    "print(sorted(mi_tupla, reverse=True))"
   ]
  },
  {
   "cell_type": "markdown",
   "metadata": {},
   "source": [
    "7. Crea un script que dada una tupla con números enteros repetidos, elimine los\n",
    "duplicados. (Puedes usar sets)."
   ]
  },
  {
   "cell_type": "code",
   "execution_count": 9,
   "metadata": {},
   "outputs": [
    {
     "name": "stdout",
     "output_type": "stream",
     "text": [
      "{1, 2, 3, 4, 5, 6, 7, 8, 9, 20}\n"
     ]
    }
   ],
   "source": [
    "mi_tupla = (1, 2, 3, 4, 5, 6, 7, 8, 9, 1, 2 , 4, 3, 5, 8, 20, 20)\n",
    "\n",
    "mi_set = set(mi_tupla)\n",
    "\n",
    "print(mi_set)"
   ]
  },
  {
   "cell_type": "markdown",
   "metadata": {},
   "source": [
    "8. Crea un script que dada una tupla y un numero entero, devuelve verdadero si el\n",
    "numero se encuentra en la tupla y falso en el caso contrario.\n"
   ]
  },
  {
   "cell_type": "code",
   "execution_count": 15,
   "metadata": {},
   "outputs": [
    {
     "name": "stdout",
     "output_type": "stream",
     "text": [
      "True\n"
     ]
    }
   ],
   "source": [
    "mi_tupla = (1, 2, 3, 4, 5, 6, 7, 8, 9)\n",
    "entero = int(input('Introduce un numero a ver si esta en mi lista'))\n",
    "\n",
    "print(entero in mi_tupla)"
   ]
  },
  {
   "cell_type": "markdown",
   "metadata": {},
   "source": [
    "9. Crea un script que dadas dos tuplas cree una tupla resultante de la union de ambas."
   ]
  },
  {
   "cell_type": "code",
   "execution_count": 16,
   "metadata": {},
   "outputs": [
    {
     "name": "stdout",
     "output_type": "stream",
     "text": [
      "(1, 2, 3, 4, 5, 6, 7, 8, 9, 'manzana', 'platano', 'naranja')\n"
     ]
    }
   ],
   "source": [
    "mi_tupla1 = (1, 2, 3, 4, 5, 6, 7, 8, 9)\n",
    "mi_tupla2 = ('manzana', 'platano', 'naranja')\n",
    "\n",
    "union_tupla = mi_tupla1 + mi_tupla2\n",
    "print(union_tupla)"
   ]
  },
  {
   "cell_type": "markdown",
   "metadata": {},
   "source": [
    "10. Crea un script que dada una tupla de números devuelva e máximo y el mínimo."
   ]
  },
  {
   "cell_type": "code",
   "execution_count": 17,
   "metadata": {},
   "outputs": [
    {
     "name": "stdout",
     "output_type": "stream",
     "text": [
      "Máximo:  9\n",
      "Mínimo:  1\n"
     ]
    }
   ],
   "source": [
    "mi_tupla1 = (1, 2, 3, 4, 5, 6, 7, 8, 9)\n",
    "\n",
    "print('Máximo: ', max(mi_tupla1))\n",
    "print('Mínimo: ', min(mi_tupla1))\n"
   ]
  },
  {
   "cell_type": "markdown",
   "metadata": {},
   "source": [
    "11. Crea un script que dada una tupla con strings devuelva el string más largo y el más\n",
    "corto. (Prueba añadiendo key=len a las funciones max y min)."
   ]
  },
  {
   "cell_type": "code",
   "execution_count": null,
   "metadata": {},
   "outputs": [
    {
     "name": "stdout",
     "output_type": "stream",
     "text": [
      "7\n",
      "Máximo: manzana\n",
      "Mínimo: limon\n"
     ]
    }
   ],
   "source": [
    "mi_tupla = ('manzana', 'platano', 'naranja', 'limon')\n",
    "\n",
    "print('Máximo:', max(mi_tupla, key=len))\n",
    "print('Mínimo:', min(mi_tupla, key=len))"
   ]
  },
  {
   "cell_type": "markdown",
   "metadata": {},
   "source": [
    "12. Crea un script que dada una tupla devuelva el contenido en orden revertido."
   ]
  },
  {
   "cell_type": "code",
   "execution_count": 26,
   "metadata": {},
   "outputs": [
    {
     "name": "stdout",
     "output_type": "stream",
     "text": [
      "limon\n",
      "naranja\n",
      "platano\n",
      "manzana\n"
     ]
    }
   ],
   "source": [
    "mi_tupla = ('manzana', 'platano', 'naranja', 'limon')\n",
    "\n",
    "tupla_mi = reversed(mi_tupla)\n",
    "\n",
    "for item in tupla_mi:\n",
    "    print(item)"
   ]
  },
  {
   "cell_type": "markdown",
   "metadata": {},
   "source": [
    "13. Crea un script que dada una tupla de tuplas, donde cada tupla interna contiene dos\n",
    "elementos, devuelva una nueva tupla en la que cada elemento sea la suma de los dos\n",
    "elementos de la tupla interna correspondiente."
   ]
  },
  {
   "cell_type": "code",
   "execution_count": 28,
   "metadata": {},
   "outputs": [
    {
     "name": "stdout",
     "output_type": "stream",
     "text": [
      "((2, 4), (2, 3), (4, 9))\n",
      "(6, 5, 13)\n"
     ]
    }
   ],
   "source": [
    "tupla_tuplas = ((2, 4), (2, 3), (4, 9))\n",
    "list = []\n",
    "\n",
    "print(tupla_tuplas)\n",
    "\n",
    "for tupla in tupla_tuplas:\n",
    "    list.append(sum(tupla))\n",
    "\n",
    "list_to_tupla = tuple(list)\n",
    "print(list_to_tupla)"
   ]
  },
  {
   "cell_type": "markdown",
   "metadata": {},
   "source": [
    "TRABAJANDO CON SETS"
   ]
  },
  {
   "cell_type": "markdown",
   "metadata": {},
   "source": [
    "14.Crea un set y elimina uno de sus elementos."
   ]
  },
  {
   "cell_type": "code",
   "execution_count": null,
   "metadata": {},
   "outputs": [
    {
     "name": "stdout",
     "output_type": "stream",
     "text": [
      "{'yosoykani', 'el golondrina', 'juan_juanito_juan', 4, 'banana', 'platano'}\n"
     ]
    }
   ],
   "source": [
    "mi_set = {'platano', 'banana', 'juan_juanito_juan', 'el golondrina', 4, 'yosoykani'}\n",
    "item_to_remove = input('introduce un item para eliminarlo')\n",
    "mi_set.discard(item_to_remove)\n",
    "\n",
    "print('Elemento a eliminar: ', item_to_remove)\n",
    "print(mi_set)"
   ]
  },
  {
   "cell_type": "markdown",
   "metadata": {},
   "source": [
    "15.Crea un set vacío."
   ]
  },
  {
   "cell_type": "code",
   "execution_count": 31,
   "metadata": {},
   "outputs": [],
   "source": [
    "mi_set = {}"
   ]
  },
  {
   "cell_type": "markdown",
   "metadata": {},
   "source": [
    "16.Crea dos sets y encuentra su union, su intersección y su diferencia.\n"
   ]
  },
  {
   "cell_type": "code",
   "execution_count": 35,
   "metadata": {},
   "outputs": [
    {
     "name": "stdout",
     "output_type": "stream",
     "text": [
      "UNION\n",
      "{4, 5, 6, 7, 'platano', 8, 'banana', 'pomelo'}\n",
      "{4, 5, 6, 7, 'platano', 8, 'banana', 'pomelo'}\n",
      "INTERSECCION\n",
      "{'platano', 4}\n",
      "{'platano', 4}\n",
      "DIFERENCIA\n",
      "{'banana', 5, 6}\n",
      "{'banana', 5, 6}\n"
     ]
    }
   ],
   "source": [
    "set1 = {'platano', 'banana', 4, 5, 6}\n",
    "set2 = {'platano', 4, 7, 8, 'pomelo'}\n",
    "print('UNION')\n",
    "print(set1 | set2)\n",
    "print(set1.union(set2))\n",
    "\n",
    "print('INTERSECCION')\n",
    "print(set1 & set2)\n",
    "print(set1.intersection(set2))\n",
    "\n",
    "print('DIFERENCIA')\n",
    "print(set1 - set2)\n",
    "print(set1.difference(set2))"
   ]
  },
  {
   "cell_type": "markdown",
   "metadata": {},
   "source": [
    "17.Crea un script que dados dos sets cree uno nuevo que contenga solo los elementos\n",
    "comunes de ambos."
   ]
  },
  {
   "cell_type": "code",
   "execution_count": null,
   "metadata": {},
   "outputs": [
    {
     "name": "stdout",
     "output_type": "stream",
     "text": [
      "{4, 5, 6, 7, 'platano', 8, 'banana', 'pomelo'}\n"
     ]
    }
   ],
   "source": [
    "set1 = {'platano', 'banana', 4, 5, 6}\n",
    "set2 = {'platano', 4, 7, 8, 'pomelo'}\n",
    "\n",
    "final_set = set1.union(set2)\n",
    "\n",
    "print(final_set)\n"
   ]
  },
  {
   "cell_type": "markdown",
   "metadata": {},
   "source": [
    "18.Crea un script que dado un set con números devuelva el numero máximo y mínimo."
   ]
  },
  {
   "cell_type": "code",
   "execution_count": 37,
   "metadata": {},
   "outputs": [
    {
     "name": "stdout",
     "output_type": "stream",
     "text": [
      "Máximo 9992999292\n",
      "Mínimo 1\n"
     ]
    }
   ],
   "source": [
    "set1 = {1, 2, 3, 4, 5, 6, 7, 99, 100, 9992999292}\n",
    "\n",
    "print('Máximo', max(set1))\n",
    "print('Mínimo', min(set1))"
   ]
  },
  {
   "cell_type": "markdown",
   "metadata": {},
   "source": [
    "19.Crea un script que dados dos sets cree uno nuevo solo con los elementos únicos de\n",
    "cada uno de los sets."
   ]
  },
  {
   "cell_type": "code",
   "execution_count": 38,
   "metadata": {},
   "outputs": [
    {
     "name": "stdout",
     "output_type": "stream",
     "text": [
      "{4, 5, 6, 7, 'platano', 8, 'banana', 'pomelo'}\n"
     ]
    }
   ],
   "source": [
    "set1 = {'platano', 'banana', 4, 5, 6}\n",
    "set2 = {'platano', 4, 7, 8, 'pomelo'}\n",
    "\n",
    "final_set = set1 | set2 #se ppuede hacer de la misma manera porque los valores de los sets son únicos\n",
    "\n",
    "print(final_set)\n"
   ]
  },
  {
   "cell_type": "markdown",
   "metadata": {},
   "source": [
    "20.Crea un set con colores y comprueba si cierto color se encuentra en el set.\n"
   ]
  },
  {
   "cell_type": "code",
   "execution_count": 40,
   "metadata": {},
   "outputs": [
    {
     "name": "stdout",
     "output_type": "stream",
     "text": [
      "False\n"
     ]
    }
   ],
   "source": [
    "set_colours = {'yellow', 'red', 'pink', 'blue', 'brown'}\n",
    "\n",
    "input_colour = input('Introduce un color y te diré si se encuentra en nuestro set')\n",
    "\n",
    "print(input_colour in set_colours)"
   ]
  },
  {
   "cell_type": "markdown",
   "metadata": {},
   "source": [
    "21.Crea un script que dados dos sets cree un nuevo set con los elementos que están en\n",
    "el primer set pero no en el segundo."
   ]
  },
  {
   "cell_type": "code",
   "execution_count": 44,
   "metadata": {},
   "outputs": [
    {
     "name": "stdout",
     "output_type": "stream",
     "text": [
      "{'yellow', 'pink'}\n"
     ]
    }
   ],
   "source": [
    "set_colours1 = {'yellow','pink', 'red'}\n",
    "set_colours2 = {'red', 'blue', 'brown'}\n",
    "\n",
    "final_set = set_colours1 - set_colours2\n",
    "\n",
    "print(final_set)"
   ]
  },
  {
   "cell_type": "markdown",
   "metadata": {},
   "source": [
    "22.Crea un script que dado un set de enteros devuelva el producto de todos los números\n",
    "dentro del set."
   ]
  },
  {
   "cell_type": "code",
   "execution_count": 46,
   "metadata": {},
   "outputs": [
    {
     "name": "stdout",
     "output_type": "stream",
     "text": [
      "49896000\n"
     ]
    }
   ],
   "source": [
    "set1 = {1, 2, 3, 4, 5, 6, 7, 99, 100}\n",
    "\n",
    "product = 1\n",
    "for numero in set1:\n",
    "    product = product * numero\n",
    "\n",
    "print(product)"
   ]
  }
 ],
 "metadata": {
  "kernelspec": {
   "display_name": "conquer_blocks",
   "language": "python",
   "name": "python3"
  },
  "language_info": {
   "codemirror_mode": {
    "name": "ipython",
    "version": 3
   },
   "file_extension": ".py",
   "mimetype": "text/x-python",
   "name": "python",
   "nbconvert_exporter": "python",
   "pygments_lexer": "ipython3",
   "version": "3.13.0"
  }
 },
 "nbformat": 4,
 "nbformat_minor": 2
}
