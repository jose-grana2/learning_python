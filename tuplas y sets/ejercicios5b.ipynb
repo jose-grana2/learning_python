{
 "cells": [
  {
   "cell_type": "markdown",
   "metadata": {},
   "source": [
    "RED SOCIAL:\n",
    "\n",
    "Una red social tiene una base de datos de usuarios y sus correspondientes amistades.\n",
    "Crea un programa que tome una base de datos de una red social como una lista de\n",
    "tuplas, donde cada tupla contiene el nombre del usuario y una lista de sus amigos. Los\n",
    "nombres repetidos en la lista de amigos corresponden a usuarios con varias cuentas\n",
    "diferentes. Deberas eliminar las cuentas duplicadas y después devolver una tupla de\n",
    "tuplas que contiene el número real de amigos por usuario y el usuario con más amigos."
   ]
  },
  {
   "cell_type": "code",
   "execution_count": null,
   "metadata": {},
   "outputs": [
    {
     "name": "stdout",
     "output_type": "stream",
     "text": [
      "(('jose-grana2', 4), ('maatyy', 4), ('Checho', 5), ('Esther', 3), ('Javi', 3), ('El usuario con mayor numero de amigos es', 'Checho'))\n"
     ]
    }
   ],
   "source": [
    "social = [\n",
    "    ('jose-grana2', ['maatyy', 'Checho', 'Mendo', 'Javi', 'maatyy', 'Javi', 'Checho',]), \n",
    "    ('maatyy', ['jose-grana2', 'Checho', 'Mendo', 'jose-grana2', 'Esther']),\n",
    "    ('Checho', ['jose-grana2', 'Esther', 'Mendo', 'maatyy', 'Javi']),\n",
    "    ('Esther', ['jose-grana2', 'Mendo', 'maatyy', 'Mendo']),\n",
    "    ('Javi', ['jose-grana2', 'Mendo', 'Checho'])\n",
    "]\n",
    "\n",
    "social_list = []\n",
    "\n",
    "#Quitamos duplicados\n",
    "for account in social:\n",
    "    remove_duplicate = set(account[1])\n",
    "    social_list.append([account[0], remove_duplicate])\n",
    "\n",
    "final_social = []\n",
    "for account in social_list:\n",
    "    final_social.append((account[0], int(len(account[1]))))\n",
    "\n",
    "user_with_more_friends = max(final_social, key=lambda x: x[1])[0]\n",
    "\n",
    "final_social.append(('El usuario con mayor numero de amigos es', user_with_more_friends))\n",
    "final_social = tuple(final_social)\n",
    "print(final_social)"
   ]
  },
  {
   "cell_type": "markdown",
   "metadata": {},
   "source": [
    "LA BIBLIOTECA:\n",
    "\n",
    "Una biblioteca tiene una lista de libros y sus autores. Crea un programa que tome la lista\n",
    "de libros y sus autores como una lista de tuplas, donde cada tupla contiene el título del\n",
    "libro y el nombre del autor, y devuelva una nueva lista de tuplas que contenga el título del\n",
    "libro y el apellido del autor."
   ]
  },
  {
   "cell_type": "code",
   "execution_count": 3,
   "metadata": {},
   "outputs": [
    {
     "name": "stdout",
     "output_type": "stream",
     "text": [
      "[('Ready Player One', 'Cline'), ('Cien años de soledad', 'García'), ('La ciudad y los perros', 'Vargas')]\n"
     ]
    }
   ],
   "source": [
    "book_list = [\n",
    "    ('Ready Player One', 'Ernest Cline'), \n",
    "    ('Cien años de soledad', 'Gabriel García Márquez'), \n",
    "    ('La ciudad y los perros', 'Mario Vargas Llosa')\n",
    "]\n",
    "title_surname_list = []\n",
    "\n",
    "for book, name in book_list:\n",
    "    surname = name.split(' ')[1]\n",
    "    title_surname_list.append((book, surname))\n",
    "\n",
    "print(title_surname_list)\n"
   ]
  }
 ],
 "metadata": {
  "kernelspec": {
   "display_name": "conquer_blocks",
   "language": "python",
   "name": "python3"
  },
  "language_info": {
   "codemirror_mode": {
    "name": "ipython",
    "version": 3
   },
   "file_extension": ".py",
   "mimetype": "text/x-python",
   "name": "python",
   "nbconvert_exporter": "python",
   "pygments_lexer": "ipython3",
   "version": "3.13.0"
  }
 },
 "nbformat": 4,
 "nbformat_minor": 2
}
