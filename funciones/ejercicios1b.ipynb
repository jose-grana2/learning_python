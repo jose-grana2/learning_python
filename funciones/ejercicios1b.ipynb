{
 "cells": [
  {
   "cell_type": "markdown",
   "metadata": {},
   "source": [
    "VALIDACIÓN DE FORMULARIO\n",
    "\n",
    "Crea un programa que valide un formulario de registro. Crea una función\n",
    "llamada validar_formulario que reciba diferentes campos de un formulario\n",
    "(nombre, correo electrónico y número de teléfono) y verifique si los valores\n",
    "ingresados cumplen con los requisitos especificados, siendo estos:\n",
    "1. Que el nombre tenga una longitud minima de 3 caracteres\n",
    "2. Que el teléfono este conformado por dígitos y tenga una longitud de 9\n",
    "caracteres\n",
    "3. Que el email contenga un “@“ y un “.”"
   ]
  },
  {
   "cell_type": "code",
   "execution_count": 16,
   "metadata": {},
   "outputs": [
    {
     "data": {
      "text/plain": [
       "False"
      ]
     },
     "execution_count": 16,
     "metadata": {},
     "output_type": "execute_result"
    }
   ],
   "source": [
    "def validar_formulario(name, email, phoneNumber):\n",
    "    if (len(name) >= 3):\n",
    "        if ('@' in email and '.' in email):\n",
    "            if (len(str(phoneNumber)) == 9 and str(phoneNumber).isdigit()):\n",
    "                return True\n",
    "\n",
    "    return False\n",
    "\n",
    "validar_formulario('Jose', 'jose.gran.rod@gmail.com', 333333333) #True\n",
    "validar_formulario('Jose', 'josegranrodgmailcom', 333333333) #False\n",
    "validar_formulario('Jo', 'jose.gran.rod@gmail.com', 333333333) #False\n",
    "validar_formulario('Jose', 'jose.gran.rod@gmail.com', 33333333) #False"
   ]
  },
  {
   "cell_type": "markdown",
   "metadata": {},
   "source": [
    "GESTIÓN DE VENTAS\n",
    "\n",
    "Crea un programa que permita gestionar las ventas de una tienda. Utiliza una\n",
    "estructura de datos adecuada para almacenar la información de las ventas\n",
    "(por ejemplo, una lista de diccionarios). Implementa dos funciones, una para\n",
    "agregar el producto vendido con su precio y otro para mostrar las ventas de\n",
    "productos con sus respectivos precios.\n",
    "(La base de datos puede tener la forma [{“Producto”: producto1, “Precio”:\n",
    "precio1}, {“Producto”: producto2, “Precio”: precio2}…])"
   ]
  },
  {
   "cell_type": "code",
   "execution_count": 30,
   "metadata": {},
   "outputs": [],
   "source": [
    "sale_bd = []"
   ]
  },
  {
   "cell_type": "code",
   "execution_count": 31,
   "metadata": {},
   "outputs": [
    {
     "name": "stdout",
     "output_type": "stream",
     "text": [
      "---------------------\n",
      "El producto: Playstation 5\n",
      "Tiene un precio de: 499\n",
      "\n",
      "El producto: Ratón Logitech\n",
      "Tiene un precio de: 11\n",
      "\n",
      "---------------------\n",
      "---------------------\n",
      "El producto: Playstation 5\n",
      "Tiene un precio de: 499\n",
      "\n",
      "El producto: Ratón Logitech\n",
      "Tiene un precio de: 11\n",
      "\n",
      "El producto: Google Pixel 7\n",
      "Tiene un precio de: 649.99\n",
      "\n",
      "El producto: Pantalla portátil Arzopa 15,6\"\n",
      "Tiene un precio de: 74.99\n",
      "\n",
      "---------------------\n"
     ]
    }
   ],
   "source": [
    "def create_sale(name, prize, sale_bd):\n",
    "    sale_bd.append({\n",
    "        'Producto': name,\n",
    "        'Precio': prize,\n",
    "    })\n",
    "\n",
    "def show_sales(sale_bd):\n",
    "    print('---------------------')\n",
    "    for sales in sale_bd:\n",
    "        print('El producto:', sales['Producto'])\n",
    "        print('Tiene un precio de:', sales['Precio'])\n",
    "        print('')\n",
    "    print('---------------------')\n",
    "\n",
    "create_sale('Playstation 5', 499, sale_bd)\n",
    "create_sale('Ratón Logitech', 11, sale_bd)\n",
    "show_sales(sale_bd)\n",
    "\n",
    "create_sale('Google Pixel 7', 649.99, sale_bd)\n",
    "create_sale('Pantalla portátil Arzopa 15,6\"', 74.99, sale_bd)\n",
    "show_sales(sale_bd)"
   ]
  },
  {
   "cell_type": "markdown",
   "metadata": {},
   "source": [
    "CONTRASENA SEGURA\n",
    "\n",
    "Crea un script que solicite una contraseña, analice si es segura y si no lo es\n",
    "sugiera una nueva contraseña. Para ello puedes crear un script validador.py\n",
    "que contenga una funcion validar_contrasena que reciba una cadena y\n",
    "verifique si cumple con los requisitos mínimos de una contraseña segura\n",
    "(por ejemplo, longitud mínima, presencia de letras mayúsculas, letras\n",
    "minúsculas, números y caracteres especiales). La función debe devolver un\n",
    "valor booleano que indique si la contraseña es válida o no. Por otro lado\n",
    "puedes crear otro script creador.py con una función llamada\n",
    "generar_contrasena que genere contraseñas seguras de forma aleatoria. La\n",
    "función debe permitir especificar la longitud de la contraseña y qué tipos de\n",
    "caracteres deben incluirse (por ejemplo, letras mayúsculas, letras\n",
    "minúsculas, números y caracteres especiales).\n",
    "(Para el generador de contraseñas puedes probar a usar los modulos\n",
    "random y string)"
   ]
  }
 ],
 "metadata": {
  "kernelspec": {
   "display_name": "conquer_blocks",
   "language": "python",
   "name": "python3"
  },
  "language_info": {
   "codemirror_mode": {
    "name": "ipython",
    "version": 3
   },
   "file_extension": ".py",
   "mimetype": "text/x-python",
   "name": "python",
   "nbconvert_exporter": "python",
   "pygments_lexer": "ipython3",
   "version": "3.13.0"
  }
 },
 "nbformat": 4,
 "nbformat_minor": 2
}
