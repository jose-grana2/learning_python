{
 "cells": [
  {
   "cell_type": "markdown",
   "metadata": {},
   "source": [
    "1. Define una función llamada \"saludar\" que tome un parámetro \"nombre\"\n",
    "y muestre un saludo personalizado."
   ]
  },
  {
   "cell_type": "code",
   "execution_count": 7,
   "metadata": {},
   "outputs": [
    {
     "name": "stdout",
     "output_type": "stream",
     "text": [
      "Hola Jose encantado de conocerte :D, soy una función que te saluda ^-^\n"
     ]
    }
   ],
   "source": [
    "def saludar(nombre):\n",
    "    print('Hola', nombre, 'encantado de conocerte :D, soy una función que te saluda ^-^')\n",
    "\n",
    "saludar(input('Dime tu nombre'))"
   ]
  },
  {
   "cell_type": "markdown",
   "metadata": {},
   "source": [
    "2. Crea una función llamada \"suma\" que tome dos parámetros \"a\" y \"b\" e\n",
    "imprima la suma de ambos."
   ]
  },
  {
   "cell_type": "code",
   "execution_count": 6,
   "metadata": {},
   "outputs": [
    {
     "name": "stdout",
     "output_type": "stream",
     "text": [
      "90298.0\n"
     ]
    }
   ],
   "source": [
    "def suma(a, b):\n",
    "    print(a + b)\n",
    "\n",
    "n1 = float(input('Introduce el primer numero que deseas sumar'))\n",
    "n2 = float(input('Introduce el segundo numero que deseas sumar'))\n",
    "\n",
    "suma(n1, n2)"
   ]
  },
  {
   "cell_type": "markdown",
   "metadata": {},
   "source": [
    "3. Escribe una función llamada \"calcular_area_rectangulo\" que tome dos\n",
    "parámetros \"base\" y \"altura\" y calcule el área de un rectángulo."
   ]
  },
  {
   "cell_type": "code",
   "execution_count": 9,
   "metadata": {},
   "outputs": [
    {
     "name": "stdout",
     "output_type": "stream",
     "text": [
      "15.0\n"
     ]
    }
   ],
   "source": [
    "def calcular_area_rectangulo(base, altura):\n",
    "    print(base * altura)\n",
    "\n",
    "base = float(input('Introduce la base del rectangulo'))\n",
    "altura = float(input('Introduce la altura del rectangulo'))\n",
    "\n",
    "calcular_area_rectangulo(base, altura)"
   ]
  },
  {
   "cell_type": "markdown",
   "metadata": {},
   "source": [
    "4. Define una función llamada \"imprimir_lista\" que tome una lista como\n",
    "parámetro y la imprima en la consola."
   ]
  },
  {
   "cell_type": "code",
   "execution_count": 10,
   "metadata": {},
   "outputs": [
    {
     "name": "stdout",
     "output_type": "stream",
     "text": [
      "['Isco', 'Lo Celso', 'Bartra', 'Sancet', 'Vinicius', 'Raphinha']\n",
      "['PHP', 'Python', 'C', 'C++', '.NET']\n",
      "['Opel', 'BMW', 'Volkswagen', 'Seat', 'Citroen', 'Skoda']\n"
     ]
    }
   ],
   "source": [
    "def imprimir_lista(lista):\n",
    "    print(lista)\n",
    "\n",
    "jugadores = ['Isco', 'Lo Celso', 'Bartra', 'Sancet', 'Vinicius', 'Raphinha']\n",
    "lenguajes = ['PHP', 'Python', 'C', 'C++', '.NET']\n",
    "marcas_coches = ['Opel', 'BMW', 'Volkswagen', 'Seat', 'Citroen', 'Skoda']\n",
    "\n",
    "imprimir_lista(jugadores)\n",
    "imprimir_lista(lenguajes)\n",
    "imprimir_lista(marcas_coches)\n"
   ]
  },
  {
   "cell_type": "markdown",
   "metadata": {},
   "source": [
    "5. Crea una función llamada \"es_par\" que tome un número como\n",
    "parámetro e imprima True si es par, o False si es impar."
   ]
  },
  {
   "cell_type": "code",
   "execution_count": 12,
   "metadata": {},
   "outputs": [
    {
     "name": "stdout",
     "output_type": "stream",
     "text": [
      "True\n",
      "False\n",
      "True\n",
      "False\n"
     ]
    }
   ],
   "source": [
    "def es_par(numero):\n",
    "    res = numero % 2\n",
    "    \n",
    "    if (res == 0):\n",
    "        print(True)\n",
    "    else:\n",
    "        print(False)\n",
    "\n",
    "es_par(2) #Debe devolver True por que es par\n",
    "es_par(3) #Debe devolver False por que es impar\n",
    "es_par(8) #Debe devolver True por que es par\n",
    "es_par(9) #Debe devolver False por que es impar\n"
   ]
  },
  {
   "cell_type": "markdown",
   "metadata": {},
   "source": [
    "6. Escribe una función llamada \"concatenar_strings\" que tome dos\n",
    "parámetros \"cadena1\" y “cadena2\" e imprima la concatenación de\n",
    "ambas cadenas."
   ]
  },
  {
   "cell_type": "code",
   "execution_count": 17,
   "metadata": {},
   "outputs": [
    {
     "name": "stdout",
     "output_type": "stream",
     "text": [
      "Musho Betis\n",
      "Lleva la tarara un vestido blanco lleno de cascabeles\n",
      "Python me está gustando mucho, es un lenguaje fácil de escribir\n"
     ]
    }
   ],
   "source": [
    "def concatenar_strings(cadena1, cadena2):\n",
    "    print(cadena1 + ' ' + cadena2)\n",
    "\n",
    "concatenar_strings('Musho', 'Betis')\n",
    "concatenar_strings('Lleva la tarara un', 'vestido blanco lleno de cascabeles')\n",
    "concatenar_strings('Python me está', 'gustando mucho, es un lenguaje fácil de escribir')"
   ]
  },
  {
   "cell_type": "markdown",
   "metadata": {},
   "source": [
    "7. Define una función llamada \"obtener_maximo\" que tome una lista de\n",
    "números como parámetro y devuelva el número máximo de la lista."
   ]
  },
  {
   "cell_type": "code",
   "execution_count": 18,
   "metadata": {},
   "outputs": [
    {
     "name": "stdout",
     "output_type": "stream",
     "text": [
      "99\n"
     ]
    }
   ],
   "source": [
    "def obtener_maximo(lista_numeros):\n",
    "    print(max(lista_numeros))\n",
    "\n",
    "number_list = [1, 2, 3, 4, 56, 7, 8, 99]\n",
    "obtener_maximo(number_list)"
   ]
  },
  {
   "cell_type": "markdown",
   "metadata": {},
   "source": [
    "8. Crea una función llamada \"convertir_fahrenheit_a_celsius\" que tome un\n",
    "parámetro \"fahrenheit\" y devuelva su equivalente en grados Celsius."
   ]
  },
  {
   "cell_type": "code",
   "execution_count": 20,
   "metadata": {},
   "outputs": [
    {
     "name": "stdout",
     "output_type": "stream",
     "text": [
      "Los grados  3 ºF son  -16.11111111111111 ºC\n",
      "Los grados  30 ºF son  -1.1111111111111112 ºC\n",
      "Los grados  38 ºF son  3.3333333333333335 ºC\n",
      "Los grados  100 ºF son  37.77777777777778 ºC\n"
     ]
    }
   ],
   "source": [
    "def convertir_fahrenheit_a_celsius(fahrenheit):\n",
    "    celsius = (fahrenheit - 32) * (5 / 9)\n",
    "\n",
    "    print('Los grados ', fahrenheit, 'ºF son ', celsius, 'ºC')\n",
    "\n",
    "\n",
    "convertir_fahrenheit_a_celsius(3)\n",
    "convertir_fahrenheit_a_celsius(30)\n",
    "convertir_fahrenheit_a_celsius(38)\n",
    "convertir_fahrenheit_a_celsius(100)"
   ]
  },
  {
   "cell_type": "markdown",
   "metadata": {},
   "source": [
    "9. Escribe una función llamada \"calcular_edad\" que tome dos parámetros:\n",
    "\"año_actual\" y \"año_nacimiento\" y calcule la edad de una persona."
   ]
  },
  {
   "cell_type": "code",
   "execution_count": 30,
   "metadata": {},
   "outputs": [
    {
     "name": "stdout",
     "output_type": "stream",
     "text": [
      "El año introducido es 1999\n",
      "La edad de esta persona es 26 años\n"
     ]
    }
   ],
   "source": [
    "from datetime import date\n",
    "def calcular_edad(anho_actual, anho_nac):\n",
    "    edad = anho_actual - anho_nac\n",
    "    if (edad > 0):\n",
    "        print('El año introducido es', anho_nac)\n",
    "        print('La edad de esta persona es', edad, 'años')\n",
    "    else:\n",
    "        print('Persona no nacida')\n",
    "\n",
    "anho_nacimiento = input('Introduce la edad de nacimiento de una persona')\n",
    "anho_actual = date.today().year\n",
    "\n",
    "calcular_edad(int(anho_actual), int(anho_nacimiento))"
   ]
  },
  {
   "cell_type": "markdown",
   "metadata": {},
   "source": [
    "10. Define una función llamada \"es_divisible\" que tome dos parámetros\n",
    "\"num\" y \"divisor\" e imprima True si \"num\" es divisible por \"divisor\", o\n",
    "False si no lo es."
   ]
  },
  {
   "cell_type": "code",
   "execution_count": 33,
   "metadata": {},
   "outputs": [
    {
     "name": "stdout",
     "output_type": "stream",
     "text": [
      "True\n"
     ]
    }
   ],
   "source": [
    "def es_divisible(num, divisor):\n",
    "    resto = num % divisor\n",
    "    if resto != 0:\n",
    "        print(False)\n",
    "    else:\n",
    "        print(True)   \n",
    "\n",
    "dividendo = int(input('Introduce un numero'))\n",
    "divisor = int(input('Introduce un divisor'))\n",
    "\n",
    "es_divisible(dividendo, divisor)     "
   ]
  },
  {
   "cell_type": "markdown",
   "metadata": {},
   "source": [
    "11. Crea una función llamada \"mostrar_info_persona\" que tome tres\n",
    "argumentos de palabra clave: \"nombre\", \"edad\" y \"ciudad\". La función\n",
    "debe imprimir en la consola la información de una persona en un\n",
    "formato legible."
   ]
  },
  {
   "cell_type": "code",
   "execution_count": 34,
   "metadata": {},
   "outputs": [
    {
     "name": "stdout",
     "output_type": "stream",
     "text": [
      "El nombre es: Jose\n",
      "Su edad es: 25\n",
      "Su ciudad es: Sevilla\n"
     ]
    }
   ],
   "source": [
    "def mostrar_info_persona(nombre, edad, ciudad):\n",
    "    print('El nombre es:', nombre)\n",
    "    print('Su edad es:', edad)\n",
    "    print('Su ciudad es:', ciudad)\n",
    "\n",
    "name = input('Introduce el nombre de una persona')\n",
    "age = int(input('¿Que edad tiene?'))\n",
    "city = input('¿Dónde reside dicha persona?')\n",
    "\n",
    "mostrar_info_persona(name, age, city)"
   ]
  },
  {
   "cell_type": "markdown",
   "metadata": {},
   "source": [
    "12. Escribe una función llamada \"calcular_promedio\" que tome una lista de\n",
    "números como parámetro y calcule el promedio de esos números. Si no\n",
    "se proporciona una lista, debe usar una lista vacía por defecto."
   ]
  },
  {
   "cell_type": "code",
   "execution_count": 36,
   "metadata": {},
   "outputs": [
    {
     "name": "stdout",
     "output_type": "stream",
     "text": [
      "9.333333333333334\n"
     ]
    }
   ],
   "source": [
    "import statistics\n",
    "\n",
    "def calcular_promedio(lista_de_numeros):\n",
    "    print(statistics.mean(lista_de_numeros))\n",
    "\n",
    "lista = [1, 2, 34, 5, 6, 8]\n",
    "calcular_promedio(lista)"
   ]
  },
  {
   "cell_type": "markdown",
   "metadata": {},
   "source": [
    "13. Crea una función llamada \"calcular_potencia\" que tome dos\n",
    "parámetros \"base\" y \"exponente\", y calcule la potencia de la base\n",
    "elevada al exponente. Utiliza 2 como valor por defecto para el\n",
    "exponente."
   ]
  },
  {
   "cell_type": "code",
   "execution_count": 40,
   "metadata": {},
   "outputs": [
    {
     "name": "stdout",
     "output_type": "stream",
     "text": [
      "128\n"
     ]
    }
   ],
   "source": [
    "def calcular_potencia(base, exponente = 2):\n",
    "    print(base ** exponente)\n",
    "\n",
    "base = input('Introduce la base del número')\n",
    "exponente = input('Introduce su exponente')\n",
    "calcular_potencia(int(base), int(exponente))"
   ]
  },
  {
   "cell_type": "code",
   "execution_count": 41,
   "metadata": {},
   "outputs": [
    {
     "name": "stdout",
     "output_type": "stream",
     "text": [
      "1048576\n",
      "100\n",
      "10240000000000\n",
      "1\n"
     ]
    }
   ],
   "source": [
    "def calcular_potencia(base, exponente = 2):\n",
    "    print(base ** exponente)\n",
    "\n",
    "calcular_potencia(4, 10)\n",
    "calcular_potencia(10)\n",
    "calcular_potencia(20, 10)\n",
    "calcular_potencia(1)\n"
   ]
  },
  {
   "cell_type": "markdown",
   "metadata": {},
   "source": [
    "14. Define una función llamada \"imprimir_info_alumno\" que tome un\n",
    "argumento posicional “nombre”(y sin valor por defecto) y varios\n",
    "argumentos de palabra clave: \"edad\", \"curso\" y “promedio\" (puedes\n",
    "ponerles como valor por defecto None). La función debe imprimir la\n",
    "información del alumno en un formato legible."
   ]
  },
  {
   "cell_type": "code",
   "execution_count": 46,
   "metadata": {},
   "outputs": [
    {
     "name": "stdout",
     "output_type": "stream",
     "text": [
      "El nombre del alumno es: Jose\n",
      "La edad del alumno es: 25\n",
      "El curso del alumno es: 2º\n",
      "El promedio del alumno es: 9.5\n",
      " \n",
      "El nombre del alumno es: Juan\n",
      "La edad del alumno es: 25\n",
      " \n",
      "El nombre del alumno es: Francisca\n",
      "La edad del alumno es: 32\n",
      "El curso del alumno es: 1º\n",
      "El promedio del alumno es: 9.5\n",
      " \n",
      "El nombre del alumno es: Pepe\n",
      "La edad del alumno es: 25\n",
      "El promedio del alumno es: 5.5\n",
      " \n",
      "El nombre del alumno es: Sergio\n",
      "La edad del alumno es: 22\n",
      "El curso del alumno es: 1º\n",
      " \n"
     ]
    }
   ],
   "source": [
    "def imprimir_info_alumno(nombre, edad, curso=None, promedio=None):\n",
    "    print('El nombre del alumno es:', nombre)\n",
    "    print('La edad del alumno es:', edad)\n",
    "    if (curso != None):\n",
    "        print('El curso del alumno es:', curso)\n",
    "    if (promedio != None):\n",
    "        print('El promedio del alumno es:', promedio)\n",
    "    \n",
    "    print(' ')\n",
    "\n",
    "\n",
    "imprimir_info_alumno('Jose', 25, '2º', '9.5')\n",
    "imprimir_info_alumno('Juan', 25)\n",
    "imprimir_info_alumno('Francisca', 32, promedio='9.5', curso='1º')\n",
    "imprimir_info_alumno('Pepe', 25, promedio=5.5)\n",
    "imprimir_info_alumno('Sergio', 22, curso='1º')"
   ]
  }
 ],
 "metadata": {
  "kernelspec": {
   "display_name": "conquer_blocks",
   "language": "python",
   "name": "python3"
  },
  "language_info": {
   "codemirror_mode": {
    "name": "ipython",
    "version": 3
   },
   "file_extension": ".py",
   "mimetype": "text/x-python",
   "name": "python",
   "nbconvert_exporter": "python",
   "pygments_lexer": "ipython3",
   "version": "3.13.0"
  }
 },
 "nbformat": 4,
 "nbformat_minor": 2
}
