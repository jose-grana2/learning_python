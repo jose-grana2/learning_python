{
 "cells": [
  {
   "cell_type": "markdown",
   "metadata": {},
   "source": [
    "FACTORIAL\n",
    "\n",
    "Implementa una función recursiva llamada factorial que calcule el factorial de\n",
    "un número entero positivo. El factorial de un número n se define como el\n",
    "producto de todos los números enteros positivos desde 1 hasta n.\n",
    "(El factorial de 0 y de 1 es igual a 1)"
   ]
  },
  {
   "cell_type": "code",
   "execution_count": 12,
   "metadata": {},
   "outputs": [
    {
     "name": "stdout",
     "output_type": "stream",
     "text": [
      "The factorial from number 4 is: 6\n"
     ]
    }
   ],
   "source": [
    "def factorial(number):\n",
    "    # number should bigger than 0 and integer\n",
    "    if (number < 0 and not int(number)):\n",
    "        return False\n",
    "\n",
    "    # When the number is 0 always return 1\n",
    "    if (number == 0):\n",
    "        return 1\n",
    "    else:\n",
    "        res = 1\n",
    "        # We calculate the factorial\n",
    "        for i in range(1, number):\n",
    "            res = res * i\n",
    "        \n",
    "        return res\n",
    "            \n",
    "number = int(input('Please, write a number and we will answer you with its factorial'))\n",
    "print('The factorial from number', number, 'is:', factorial(number))\n",
    "\n"
   ]
  },
  {
   "cell_type": "markdown",
   "metadata": {},
   "source": [
    "POTENCIA\n",
    "\n",
    "Implementa una función recursiva llamada potencia que calcule el resultado\n",
    "de elevar un número a una potencia dada. Puedes asumir que tanto el\n",
    "número como la potencia son enteros no negativos."
   ]
  },
  {
   "cell_type": "code",
   "execution_count": 6,
   "metadata": {},
   "outputs": [
    {
     "name": "stdout",
     "output_type": "stream",
     "text": [
      "La potencia del numero 10 con base 2 es 100\n"
     ]
    }
   ],
   "source": [
    "def potencia(number, base):\n",
    "    # Any parameter should be negative\n",
    "    if (number < 0 or base < 0):\n",
    "        return False\n",
    "    \n",
    "    return number ** base\n",
    "\n",
    "number = int(input('Write the number'))\n",
    "power = int(input('Write its power'))\n",
    "print('The power from number', number, 'with power', power, 'is', potencia(number, power))"
   ]
  },
  {
   "cell_type": "markdown",
   "metadata": {},
   "source": [
    "SUMA ELEMENTOS DE UNA LISTA\n",
    "\n",
    "Crea una función recursiva llamada suma_lista que calcule la suma de todos\n",
    "los elementos de una lista de enteros. Puedes asumir que la lista no está\n",
    "vacía."
   ]
  },
  {
   "cell_type": "code",
   "execution_count": 10,
   "metadata": {},
   "outputs": [
    {
     "name": "stdout",
     "output_type": "stream",
     "text": [
      "45\n",
      "1423\n",
      "1906\n"
     ]
    }
   ],
   "source": [
    "def suma_lista(elements):\n",
    "    res = 0\n",
    "\n",
    "    for element in elements:\n",
    "        res += element\n",
    "    \n",
    "    return res\n",
    "    \n",
    "number_list = [1, 2, 3, 4, 5, 6, 7, 8, 9]\n",
    "print(suma_lista(number_list))\n",
    "\n",
    "number_list = [34, 65, 67, 23, 1234]\n",
    "print(suma_lista(number_list))\n",
    "\n",
    "number_list = [0, 8, 654, 987, 234, 23]\n",
    "print(suma_lista(number_list))\n",
    "\n",
    "\n"
   ]
  },
  {
   "cell_type": "markdown",
   "metadata": {},
   "source": [
    "NUMERO TRIANGULAR\n",
    "\n",
    "\n",
    "Crea una función recursiva llamada numero_triangular que calcule el n-ésimo\n",
    "número triangular. Un número triangular se obtiene al sumar todos los\n",
    "números naturales desde 1 hasta n."
   ]
  },
  {
   "cell_type": "code",
   "execution_count": 11,
   "metadata": {},
   "outputs": [
    {
     "name": "stdout",
     "output_type": "stream",
     "text": [
      "45\n"
     ]
    }
   ],
   "source": [
    "def numero_triangular(number):\n",
    "    if (number == 0):\n",
    "        return 0\n",
    "    res = 0\n",
    "    for num in range(1, number):\n",
    "        res += num\n",
    "\n",
    "    return res\n",
    "\n",
    "print(numero_triangular(number))"
   ]
  }
 ],
 "metadata": {
  "kernelspec": {
   "display_name": "conquer_blocks",
   "language": "python",
   "name": "python3"
  },
  "language_info": {
   "codemirror_mode": {
    "name": "ipython",
    "version": 3
   },
   "file_extension": ".py",
   "mimetype": "text/x-python",
   "name": "python",
   "nbconvert_exporter": "python",
   "pygments_lexer": "ipython3",
   "version": "3.13.0"
  }
 },
 "nbformat": 4,
 "nbformat_minor": 2
}
